{
  "cells": [
    {
      "cell_type": "code",
      "execution_count": null,
      "metadata": {
        "id": "QsfFvPYhkCGl"
      },
      "outputs": [],
      "source": [
        "# librerías\n",
        "import matplotlib.pyplot as plt\n",
        "from matplotlib import cm\n",
        "import numpy as np\n",
        "import scipy as sp\n",
        "import scipy.linalg as linalg\n",
        "import sklearn as skl\n",
        "import pandas as pd\n",
        "import seaborn as sns\n",
        "import time\n",
        "import random\n",
        "import torch\n",
        "from torch import nn\n",
        "from torch.utils.data import Dataset, DataLoader, Subset, random_split\n",
        "from torchvision import datasets\n",
        "from torchvision import transforms"
      ]
    },
    {
      "cell_type": "code",
      "source": [
        "# para reproducibilidad\n",
        "torch.backends.cudnn.deterministic = True\n",
        "torch.backends.cudnn.benchmark = False\n",
        "\n",
        "random.seed(0)\n",
        "torch.manual_seed(0)\n",
        "np.random.seed(0)"
      ],
      "metadata": {
        "id": "5fhAJ8IEmTGA"
      },
      "execution_count": null,
      "outputs": []
    },
    {
      "cell_type": "code",
      "execution_count": null,
      "metadata": {
        "colab": {
          "base_uri": "https://localhost:8080/"
        },
        "id": "NUoQ9bnwaZ7O",
        "outputId": "31d4ca2d-8eee-420a-c81e-e81200a3778c"
      },
      "outputs": [
        {
          "output_type": "stream",
          "name": "stdout",
          "text": [
            "Downloading http://fashion-mnist.s3-website.eu-central-1.amazonaws.com/train-images-idx3-ubyte.gz\n",
            "Downloading http://fashion-mnist.s3-website.eu-central-1.amazonaws.com/train-images-idx3-ubyte.gz to MNIST_data/FashionMNIST/raw/train-images-idx3-ubyte.gz\n"
          ]
        },
        {
          "output_type": "stream",
          "name": "stderr",
          "text": [
            "100%|██████████| 26421880/26421880 [00:01<00:00, 13377830.21it/s]\n"
          ]
        },
        {
          "output_type": "stream",
          "name": "stdout",
          "text": [
            "Extracting MNIST_data/FashionMNIST/raw/train-images-idx3-ubyte.gz to MNIST_data/FashionMNIST/raw\n",
            "\n",
            "Downloading http://fashion-mnist.s3-website.eu-central-1.amazonaws.com/train-labels-idx1-ubyte.gz\n",
            "Downloading http://fashion-mnist.s3-website.eu-central-1.amazonaws.com/train-labels-idx1-ubyte.gz to MNIST_data/FashionMNIST/raw/train-labels-idx1-ubyte.gz\n"
          ]
        },
        {
          "output_type": "stream",
          "name": "stderr",
          "text": [
            "100%|██████████| 29515/29515 [00:00<00:00, 212813.85it/s]\n"
          ]
        },
        {
          "output_type": "stream",
          "name": "stdout",
          "text": [
            "Extracting MNIST_data/FashionMNIST/raw/train-labels-idx1-ubyte.gz to MNIST_data/FashionMNIST/raw\n",
            "\n",
            "Downloading http://fashion-mnist.s3-website.eu-central-1.amazonaws.com/t10k-images-idx3-ubyte.gz\n",
            "Downloading http://fashion-mnist.s3-website.eu-central-1.amazonaws.com/t10k-images-idx3-ubyte.gz to MNIST_data/FashionMNIST/raw/t10k-images-idx3-ubyte.gz\n"
          ]
        },
        {
          "output_type": "stream",
          "name": "stderr",
          "text": [
            "100%|██████████| 4422102/4422102 [00:01<00:00, 3895125.29it/s]\n"
          ]
        },
        {
          "output_type": "stream",
          "name": "stdout",
          "text": [
            "Extracting MNIST_data/FashionMNIST/raw/t10k-images-idx3-ubyte.gz to MNIST_data/FashionMNIST/raw\n",
            "\n",
            "Downloading http://fashion-mnist.s3-website.eu-central-1.amazonaws.com/t10k-labels-idx1-ubyte.gz\n",
            "Downloading http://fashion-mnist.s3-website.eu-central-1.amazonaws.com/t10k-labels-idx1-ubyte.gz to MNIST_data/FashionMNIST/raw/t10k-labels-idx1-ubyte.gz\n"
          ]
        },
        {
          "output_type": "stream",
          "name": "stderr",
          "text": [
            "100%|██████████| 5148/5148 [00:00<00:00, 5136126.78it/s]"
          ]
        },
        {
          "output_type": "stream",
          "name": "stdout",
          "text": [
            "Extracting MNIST_data/FashionMNIST/raw/t10k-labels-idx1-ubyte.gz to MNIST_data/FashionMNIST/raw\n",
            "\n"
          ]
        },
        {
          "output_type": "stream",
          "name": "stderr",
          "text": [
            "\n"
          ]
        }
      ],
      "source": [
        "# Para transformar a tensores\n",
        "transform = transforms.Compose([transforms.ToTensor()])\n",
        "\n",
        "# Descargar y cargar los datos\n",
        "trainset = datasets.FashionMNIST('MNIST_data/', download = True, train = True, transform = transform)\n",
        "testset = datasets.FashionMNIST('MNIST_data/', download = True, train = False, transform = transform)"
      ]
    },
    {
      "cell_type": "code",
      "execution_count": null,
      "metadata": {
        "id": "0FIEgN3EmYeT"
      },
      "outputs": [],
      "source": [
        "# Separamos el conjunto de entrenamiento en dos, uno que se usará para entrenar y otro para validar\n",
        "trainset, validset = torch.utils.data.random_split(trainset, [50000, 10000])"
      ]
    },
    {
      "cell_type": "code",
      "execution_count": null,
      "metadata": {
        "colab": {
          "base_uri": "https://localhost:8080/"
        },
        "id": "BCBzO_tC0wwW",
        "outputId": "1bea47a1-6fee-4d95-9abc-524fad8d1795"
      },
      "outputs": [
        {
          "output_type": "execute_result",
          "data": {
            "text/plain": [
              "(50000, 10000, 10000)"
            ]
          },
          "metadata": {},
          "execution_count": 5
        }
      ],
      "source": [
        "# Ver cómo queda la longitud de estos conjuntos\n",
        "len(trainset),len(validset), len(testset)"
      ]
    },
    {
      "cell_type": "code",
      "execution_count": null,
      "metadata": {
        "id": "-kmMvVjlww-0"
      },
      "outputs": [],
      "source": [
        "# Etiquetas\n",
        "labels_names = {\n",
        "    0: \"T-Shirt\",    # Remera manga corta\n",
        "    1: \"Trouser\",    # Pantalon\n",
        "    2: \"Pullover\",   # Buzo\n",
        "    3: \"Dress\",      # Vestido\n",
        "    4: \"Coat\",       # Abrigo\n",
        "    5: \"Sandal\",     # Sandalia\n",
        "    6: \"Shirt\",      # Remera manga larga\n",
        "    7: \"Sneaker\",    # Zapatilla\n",
        "    8: \"Bag\",        # Bolso\n",
        "    9: \"Ankle Boot\", # Bota\n",
        "}"
      ]
    },
    {
      "cell_type": "code",
      "execution_count": null,
      "metadata": {
        "colab": {
          "base_uri": "https://localhost:8080/",
          "height": 428
        },
        "id": "-wJdl9mKx5EC",
        "outputId": "de4775eb-990a-4458-e45f-3b218518c97a"
      },
      "outputs": [
        {
          "output_type": "display_data",
          "data": {
            "text/plain": [
              "<Figure size 640x480 with 9 Axes>"
            ],
            "image/png": "[encoded data removed]"
          },
          "metadata": {}
        }
      ],
      "source": [
        "# Ploteo de algunos ejemplos\n",
        "figure = plt.figure()\n",
        "cols,rows = 3,3\n",
        "classes = ['T-shirt', 'Trouser', 'Pullover', 'Dress', 'Coat',\n",
        "        'Sandal', 'Shirt', 'Sneaker', 'Bag', 'Ankle Boot']\n",
        "\n",
        "for i in range(1,cols*rows+1):\n",
        "  j = torch.randint(len(trainset),size=(1,)).item() # Los números aleatorios tambien se pueden generar desde pytorch. Util para trabajar en la GPU.\n",
        "  image,label = trainset[j]\n",
        "  while labels_names[label] not in classes:\n",
        "    j = torch.randint(len(trainset),size=(1,)).item()\n",
        "    image,label = trainset[j]\n",
        "  classes.remove(labels_names[label])\n",
        "  figure.add_subplot(rows,cols,i)\n",
        "  plt.subplots_adjust(hspace=0.3)\n",
        "  plt.title(labels_names[label])\n",
        "  plt.axis(\"off\")\n",
        "  plt.imshow(image.squeeze(),cmap=\"Greys_r\")\n",
        "plt.savefig(\"Ejemplos\")\n",
        "plt.show()"
      ]
    },
    {
      "cell_type": "code",
      "execution_count": null,
      "metadata": {
        "id": "O5HSRGnCtuvO"
      },
      "outputs": [],
      "source": [
        "# Hay que pasar por estas clases por cómo vino el dataset (con un output con la label)\n",
        "class CustomDataset(Dataset):\n",
        "    def __init__(self,dataset):\n",
        "        self.dataset=dataset\n",
        "    # Redefinimos el método .__len__()\n",
        "    def __len__(self):\n",
        "        return len(self.dataset)\n",
        "    # Redefinimos el método .__getitem__()\n",
        "    def __getitem__(self,i):\n",
        "        image,label=self.dataset[i]\n",
        "        input  = image\n",
        "        output = torch.flatten(image) # Reescribimos el label original con una version achatada de la imagen.\n",
        "        return input,output\n",
        "\n",
        "# Aplicamos a los conjuntos que tenemos\n",
        "trainset = CustomDataset(trainset)\n",
        "validset = CustomDataset(validset)\n",
        "testset = CustomDataset(testset)"
      ]
    },
    {
      "cell_type": "code",
      "execution_count": null,
      "metadata": {
        "id": "lK7gqh7lrTi8"
      },
      "outputs": [],
      "source": [
        "# Hacemos los minibatchs\n",
        "batch_size = 1000\n",
        "trainloader = torch.utils.data.DataLoader(trainset, batch_size = batch_size, shuffle = True)  #solo es necesario shuffle=True para modificar pesos\n",
        "validloader = torch.utils.data.DataLoader(validset, batch_size = batch_size, shuffle = False)\n",
        "testloader = torch.utils.data.DataLoader(testset, batch_size = batch_size, shuffle = False)"
      ]
    },
    {
      "cell_type": "markdown",
      "metadata": {
        "id": "N5Kz5OCAsO-_"
      },
      "source": [
        "RED:"
      ]
    },
    {
      "cell_type": "code",
      "execution_count": null,
      "metadata": {
        "id": "C17Tib9G_k-q"
      },
      "outputs": [],
      "source": [
        "# Definimos la arquitectura de la red neuoronal\n",
        "class NeuralNetwork(nn.Module):\n",
        "    def __init__(self, n, p=0.1, name='modelo'):\n",
        "        super(NeuralNetwork, self).__init__()\n",
        "        self.n = n\n",
        "        self.name = name\n",
        "\n",
        "        #listas del error como atributoos, se inicializan como vacías\n",
        "        self.list_train_avg_loss_entrenamiento = []\n",
        "        self.list_train_avg_loss_entrenada = []\n",
        "        self.list_valid_avg_loss = []\n",
        "\n",
        "        self.flatten = nn.Flatten() # \"capa\" flatten\n",
        "        self.capa1 = nn.Linear(28*28,n) # capa1 = \"capa\" fully connected 1\n",
        "        self.relu = nn.ReLU() # \"capa\" relu\n",
        "        self.dropo = nn.Dropout(p) # \"capa\" dropout\n",
        "        self.capa2 = nn.Linear(n,28*28) # capa2 = \"capa\" fully connected 2\n",
        "    def forward(self, x):\n",
        "        x = self.flatten(x)\n",
        "        x = self.capa1(x)\n",
        "        x = self.relu(x)\n",
        "        x = self.dropo(x)\n",
        "        x = self.capa2(x)\n",
        "        return x"
      ]
    },
    {
      "cell_type": "code",
      "execution_count": null,
      "metadata": {
        "id": "hyuXv-0x29Xw"
      },
      "outputs": [],
      "source": [
        "# Definimos la función de entrenamiento\n",
        "def train_loop(dataloader,model,loss_fn,optimizer):\n",
        "    # Activamos la maquinaria de entrenamiento del modelo\n",
        "    model.train()\n",
        "    # Definimos ciertas constantes\n",
        "    size = len(dataloader.dataset)\n",
        "    num_batches = len(dataloader)\n",
        "    sum_loss,sum_correct = 0,0\n",
        "    # Iteramos sobre lotes (batchs)\n",
        "    for batch, (X, y) in enumerate(dataloader):\n",
        "        # Copiamos las entradas y las salidas al dispositivo de trabajo\n",
        "        X = X.to(device)\n",
        "        y = y.to(device)\n",
        "        # Calculamos la predicción del modelo y la correspondiente pérdida (error)\n",
        "        pred = model(X)\n",
        "        loss = loss_fn(pred,y)\n",
        "        # Backpropagamos usando el optimizador proveido.\n",
        "        optimizer.zero_grad()\n",
        "        loss.backward()\n",
        "        optimizer.step()\n",
        "        # Imprimimos el progreso...\n",
        "        loss_value = loss.item()\n",
        "        sum_loss += loss_value\n",
        "\n",
        "        if batch % 10 == 0:\n",
        "            current = batch*len(X)\n",
        "            print(f\"batch={batch} loss={loss_value:>7f}  muestras-procesadas:[{current:>5d}/{size:>5d}]\")\n",
        "    avg_loss = sum_loss/num_batches\n",
        "\n",
        "    return avg_loss\n",
        "\n",
        "# De manera similar, definimos la función de prueba\n",
        "def test_loop(dataloader,model,loss_fn):\n",
        "    # Desactivamos la maquinaria de entrenamiento del modelo\n",
        "    model.eval()\n",
        "    # Definimos ciertas constantes\n",
        "    size = len(dataloader.dataset)\n",
        "    num_batches = len(dataloader)\n",
        "    sum_loss,sum_correct = 0,0\n",
        "    # Para testear, desactivamos el cálculo de gradientes.\n",
        "    with torch.no_grad():\n",
        "        # Iteramos sobre lotes (batches)\n",
        "        for X,y in dataloader:\n",
        "            # Copiamos las entradas y las salidas al dispositivo de trabajo\n",
        "            X = X.to(device)\n",
        "            y = y.to(device)\n",
        "            # Calculamos las predicciones del modelo...\n",
        "            pred = model(X)\n",
        "            # y las correspondientes pérdidas (errores), los cuales vamos acumulando en un valor total.\n",
        "            sum_loss += loss_fn(pred,y).item()\n",
        "\n",
        "    avg_loss = sum_loss/num_batches\n",
        "\n",
        "    print(f\"Test Error: \\n  Avg loss: {avg_loss:>8f}\")\n",
        "    return avg_loss\n",
        "\n",
        "def valid_loop(dataloader, model, loss_fn, conj_entrenamiento=False):\n",
        "    # Desactivamos la maquinaria de entrenamiento del modelo\n",
        "    model.eval()\n",
        "    # Definimos ciertas constantes\n",
        "    size = len(dataloader.dataset)\n",
        "    num_batches = len(dataloader)\n",
        "    sum_loss,sum_correct = 0,0\n",
        "    # Para testear, desactivamos el cálculo de gradientes.\n",
        "    with torch.no_grad():\n",
        "        # Iteramos sobre lotes (batches)\n",
        "        for X,y in dataloader:\n",
        "            # Copiamos las entradas y las salidas al dispositivo de trabajo\n",
        "            X = X.to(device)\n",
        "            y = y.to(device)\n",
        "            # Calculamos las predicciones del modelo...\n",
        "            pred = model(X)\n",
        "            # y las correspondientes pérdidas (errores), los cuales vamos acumulando en un valor total.\n",
        "            sum_loss += loss_fn(pred,y).item()\n",
        "\n",
        "    # Calculamos la pérdida total y la fracción de clasificaciones correctas, y las imprimimos.\n",
        "    avg_loss = sum_loss/num_batches\n",
        "    if conj_entrenamiento==False:\n",
        "      print(f\"Valid Error: \\n  Avg loss: {avg_loss:>8f} \\n\")\n",
        "    else:\n",
        "      print(f\"Entrenamiento Error: \\n  Avg loss: {avg_loss:>8f} \\n\")\n",
        "    return avg_loss"
      ]
    },
    {
      "cell_type": "markdown",
      "metadata": {
        "id": "MZSbhL9S5fHb"
      },
      "source": [
        "En PyTorch, puedes verificar si el Dropout está activado o desactivado utilizando el método model.training. Este método devuelve True si el modelo está en modo de entrenamiento y False si está en modo de evaluación (prueba/inferencia). Durante el entrenamiento, PyTorch activa automáticamente el Dropout, y durante la evaluación, el Dropout se desactiva."
      ]
    },
    {
      "cell_type": "code",
      "execution_count": null,
      "metadata": {
        "id": "Gau_qdt58Av-"
      },
      "outputs": [],
      "source": [
        "# Función de pérdida\n",
        "loss_fn = nn.MSELoss()"
      ]
    },
    {
      "cell_type": "code",
      "execution_count": null,
      "metadata": {
        "id": "IHs2hKqzBuxi"
      },
      "outputs": [],
      "source": [
        "# Red neuronal con 64 neuronas en la capa oculta\n",
        "n = 64\n",
        "model = NeuralNetwork(n)"
      ]
    },
    {
      "cell_type": "code",
      "execution_count": null,
      "metadata": {
        "id": "mba_vHSQhaB-"
      },
      "outputs": [],
      "source": [
        "# Optimizador como Stochastic Gradient Descent\n",
        "learning_rate = 0.5 # necesario para definir\n",
        "optimizer = torch.optim.SGD(model.parameters(),lr=learning_rate)\n",
        "#optimizer = torch.optim.Adam(model.parameters(),lr=learning_rate,eps=1e-08,weight_decay=0,amsgrad=False)"
      ]
    },
    {
      "cell_type": "code",
      "execution_count": null,
      "metadata": {
        "id": "znNhuhRuhSS1"
      },
      "outputs": [],
      "source": [
        "# Determinamos en que dispositivo vamos a trabajar, una CPU o una GPU\n",
        "device = torch.device('cuda' if torch.cuda.is_available() else 'cpu')\n",
        "# Pasamos el modelo al dispositivo\n",
        "model = model.to(device)"
      ]
    },
    {
      "cell_type": "code",
      "execution_count": null,
      "metadata": {
        "id": "hb-GUztr8DYc"
      },
      "outputs": [],
      "source": [
        "# Finalmente, entrenamos iterando sobre épocas.\n",
        "# Además, hacemos la validación del modelo en cada una de ellas.\n",
        "def entrenamiento(model):\n",
        "   # Medir el tiempo de ejecución, inicio el tiempo\n",
        "  inicio = time.time()\n",
        "  num_epochs = 30\n",
        "\n",
        "  for epoch in range(num_epochs):\n",
        "      print(f\"Epoch {epoch+1}\\n-------------------------------\")\n",
        "      train_avg_loss_entrenamiento = train_loop(trainloader,model,loss_fn,optimizer)\n",
        "      train_avg_loss_entrenada = valid_loop(trainloader, model, loss_fn, conj_entrenamiento=True)\n",
        "      valid_avg_loos = valid_loop(validloader,model,loss_fn)\n",
        "\n",
        "      # guardo cada errores en las listas creadas como atributos del modelo\n",
        "      model.list_train_avg_loss_entrenamiento.append(train_avg_loss_entrenamiento)\n",
        "      model.list_valid_avg_loss.append(valid_avg_loos)\n",
        "      model.list_train_avg_loss_entrenada.append(train_avg_loss_entrenada)\n",
        "  # Finalizo el tiempo de ejecución\n",
        "  fin = time.time()\n",
        "  # Calcular el tiempo transcurrido\n",
        "  tiempo_transcurrido = fin - inicio\n",
        "  print(\"Done!\")\n",
        "  print(f\"El modelo tardó {tiempo_transcurrido} segundos en ejecutarse.\")"
      ]
    },
    {
      "cell_type": "code",
      "execution_count": null,
      "metadata": {
        "colab": {
          "base_uri": "https://localhost:8080/"
        },
        "id": "SEnH3fi-EiFd",
        "outputId": "e6c2f53c-4d80-4e8c-e4aa-b86ea6c5ee5f"
      },
      "outputs": [
        {
          "output_type": "stream",
          "name": "stdout",
          "text": [
            "Epoch 1\n",
            "-------------------------------\n",
            "batch=0 loss=0.223489  muestras-procesadas:[    0/50000]\n",
            "batch=10 loss=0.204302  muestras-procesadas:[10000/50000]\n",
            "batch=20 loss=0.192890  muestras-procesadas:[20000/50000]\n",
            "batch=30 loss=0.174691  muestras-procesadas:[30000/50000]\n",
            "batch=40 loss=0.163957  muestras-procesadas:[40000/50000]\n",
            "Entrenamiento Error: \n",
            "  Avg loss: 0.142486 \n",
            "\n",
            "Valid Error: \n",
            "  Avg loss: 0.140937 \n",
            "\n",
            "Epoch 2\n",
            "-------------------------------\n",
            "batch=0 loss=0.147530  muestras-procesadas:[    0/50000]\n",
            "batch=10 loss=0.129676  muestras-procesadas:[10000/50000]\n",
            "batch=20 loss=0.115627  muestras-procesadas:[20000/50000]\n",
            "batch=30 loss=0.104727  muestras-procesadas:[30000/50000]\n",
            "batch=40 loss=0.093890  muestras-procesadas:[40000/50000]\n",
            "Entrenamiento Error: \n",
            "  Avg loss: 0.077355 \n",
            "\n",
            "Valid Error: \n",
            "  Avg loss: 0.076861 \n",
            "\n",
            "Epoch 3\n",
            "-------------------------------\n",
            "batch=0 loss=0.086168  muestras-procesadas:[    0/50000]\n",
            "batch=10 loss=0.084753  muestras-procesadas:[10000/50000]\n",
            "batch=20 loss=0.078421  muestras-procesadas:[20000/50000]\n",
            "batch=30 loss=0.078181  muestras-procesadas:[30000/50000]\n",
            "batch=40 loss=0.076368  muestras-procesadas:[40000/50000]\n",
            "Entrenamiento Error: \n",
            "  Avg loss: 0.067058 \n",
            "\n",
            "Valid Error: \n",
            "  Avg loss: 0.066775 \n",
            "\n",
            "Epoch 4\n",
            "-------------------------------\n",
            "batch=0 loss=0.075405  muestras-procesadas:[    0/50000]\n",
            "batch=10 loss=0.075519  muestras-procesadas:[10000/50000]\n",
            "batch=20 loss=0.073162  muestras-procesadas:[20000/50000]\n",
            "batch=30 loss=0.073980  muestras-procesadas:[30000/50000]\n",
            "batch=40 loss=0.073357  muestras-procesadas:[40000/50000]\n",
            "Entrenamiento Error: \n",
            "  Avg loss: 0.065094 \n",
            "\n",
            "Valid Error: \n",
            "  Avg loss: 0.064859 \n",
            "\n",
            "Epoch 5\n",
            "-------------------------------\n",
            "batch=0 loss=0.072590  muestras-procesadas:[    0/50000]\n",
            "batch=10 loss=0.072251  muestras-procesadas:[10000/50000]\n",
            "batch=20 loss=0.071052  muestras-procesadas:[20000/50000]\n",
            "batch=30 loss=0.071182  muestras-procesadas:[30000/50000]\n",
            "batch=40 loss=0.072109  muestras-procesadas:[40000/50000]\n",
            "Entrenamiento Error: \n",
            "  Avg loss: 0.064056 \n",
            "\n",
            "Valid Error: \n",
            "  Avg loss: 0.063838 \n",
            "\n",
            "Epoch 6\n",
            "-------------------------------\n",
            "batch=0 loss=0.070589  muestras-procesadas:[    0/50000]\n",
            "batch=10 loss=0.071905  muestras-procesadas:[10000/50000]\n",
            "batch=20 loss=0.071923  muestras-procesadas:[20000/50000]\n",
            "batch=30 loss=0.070441  muestras-procesadas:[30000/50000]\n",
            "batch=40 loss=0.069699  muestras-procesadas:[40000/50000]\n",
            "Entrenamiento Error: \n",
            "  Avg loss: 0.062927 \n",
            "\n",
            "Valid Error: \n",
            "  Avg loss: 0.062723 \n",
            "\n",
            "Epoch 7\n",
            "-------------------------------\n",
            "batch=0 loss=0.069486  muestras-procesadas:[    0/50000]\n",
            "batch=10 loss=0.068898  muestras-procesadas:[10000/50000]\n",
            "batch=20 loss=0.068786  muestras-procesadas:[20000/50000]\n",
            "batch=30 loss=0.069228  muestras-procesadas:[30000/50000]\n",
            "batch=40 loss=0.069362  muestras-procesadas:[40000/50000]\n",
            "Entrenamiento Error: \n",
            "  Avg loss: 0.061672 \n",
            "\n",
            "Valid Error: \n",
            "  Avg loss: 0.061480 \n",
            "\n",
            "Epoch 8\n",
            "-------------------------------\n",
            "batch=0 loss=0.068917  muestras-procesadas:[    0/50000]\n",
            "batch=10 loss=0.067379  muestras-procesadas:[10000/50000]\n",
            "batch=20 loss=0.067545  muestras-procesadas:[20000/50000]\n",
            "batch=30 loss=0.067689  muestras-procesadas:[30000/50000]\n",
            "batch=40 loss=0.066860  muestras-procesadas:[40000/50000]\n",
            "Entrenamiento Error: \n",
            "  Avg loss: 0.060268 \n",
            "\n",
            "Valid Error: \n",
            "  Avg loss: 0.060089 \n",
            "\n",
            "Epoch 9\n",
            "-------------------------------\n",
            "batch=0 loss=0.068049  muestras-procesadas:[    0/50000]\n",
            "batch=10 loss=0.067041  muestras-procesadas:[10000/50000]\n",
            "batch=20 loss=0.068024  muestras-procesadas:[20000/50000]\n",
            "batch=30 loss=0.063540  muestras-procesadas:[30000/50000]\n",
            "batch=40 loss=0.065665  muestras-procesadas:[40000/50000]\n",
            "Entrenamiento Error: \n",
            "  Avg loss: 0.058749 \n",
            "\n",
            "Valid Error: \n",
            "  Avg loss: 0.058582 \n",
            "\n",
            "Epoch 10\n",
            "-------------------------------\n",
            "batch=0 loss=0.065749  muestras-procesadas:[    0/50000]\n",
            "batch=10 loss=0.064179  muestras-procesadas:[10000/50000]\n",
            "batch=20 loss=0.065528  muestras-procesadas:[20000/50000]\n",
            "batch=30 loss=0.063514  muestras-procesadas:[30000/50000]\n",
            "batch=40 loss=0.063323  muestras-procesadas:[40000/50000]\n",
            "Entrenamiento Error: \n",
            "  Avg loss: 0.057163 \n",
            "\n",
            "Valid Error: \n",
            "  Avg loss: 0.057007 \n",
            "\n",
            "Epoch 11\n",
            "-------------------------------\n",
            "batch=0 loss=0.062756  muestras-procesadas:[    0/50000]\n",
            "batch=10 loss=0.062828  muestras-procesadas:[10000/50000]\n",
            "batch=20 loss=0.061107  muestras-procesadas:[20000/50000]\n",
            "batch=30 loss=0.063395  muestras-procesadas:[30000/50000]\n",
            "batch=40 loss=0.060709  muestras-procesadas:[40000/50000]\n",
            "Entrenamiento Error: \n",
            "  Avg loss: 0.055588 \n",
            "\n",
            "Valid Error: \n",
            "  Avg loss: 0.055441 \n",
            "\n",
            "Epoch 12\n",
            "-------------------------------\n",
            "batch=0 loss=0.061089  muestras-procesadas:[    0/50000]\n",
            "batch=10 loss=0.062023  muestras-procesadas:[10000/50000]\n",
            "batch=20 loss=0.059106  muestras-procesadas:[20000/50000]\n",
            "batch=30 loss=0.060458  muestras-procesadas:[30000/50000]\n",
            "batch=40 loss=0.060477  muestras-procesadas:[40000/50000]\n",
            "Entrenamiento Error: \n",
            "  Avg loss: 0.053985 \n",
            "\n",
            "Valid Error: \n",
            "  Avg loss: 0.053849 \n",
            "\n",
            "Epoch 13\n",
            "-------------------------------\n",
            "batch=0 loss=0.061109  muestras-procesadas:[    0/50000]\n",
            "batch=10 loss=0.060369  muestras-procesadas:[10000/50000]\n",
            "batch=20 loss=0.059963  muestras-procesadas:[20000/50000]\n",
            "batch=30 loss=0.059335  muestras-procesadas:[30000/50000]\n",
            "batch=40 loss=0.058684  muestras-procesadas:[40000/50000]\n",
            "Entrenamiento Error: \n",
            "  Avg loss: 0.052545 \n",
            "\n",
            "Valid Error: \n",
            "  Avg loss: 0.052416 \n",
            "\n",
            "Epoch 14\n",
            "-------------------------------\n",
            "batch=0 loss=0.059595  muestras-procesadas:[    0/50000]\n",
            "batch=10 loss=0.058536  muestras-procesadas:[10000/50000]\n",
            "batch=20 loss=0.058131  muestras-procesadas:[20000/50000]\n",
            "batch=30 loss=0.057647  muestras-procesadas:[30000/50000]\n",
            "batch=40 loss=0.058288  muestras-procesadas:[40000/50000]\n",
            "Entrenamiento Error: \n",
            "  Avg loss: 0.051156 \n",
            "\n",
            "Valid Error: \n",
            "  Avg loss: 0.051032 \n",
            "\n",
            "Epoch 15\n",
            "-------------------------------\n",
            "batch=0 loss=0.055271  muestras-procesadas:[    0/50000]\n",
            "batch=10 loss=0.056083  muestras-procesadas:[10000/50000]\n",
            "batch=20 loss=0.056843  muestras-procesadas:[20000/50000]\n",
            "batch=30 loss=0.056504  muestras-procesadas:[30000/50000]\n",
            "batch=40 loss=0.055163  muestras-procesadas:[40000/50000]\n",
            "Entrenamiento Error: \n",
            "  Avg loss: 0.049986 \n",
            "\n",
            "Valid Error: \n",
            "  Avg loss: 0.049865 \n",
            "\n",
            "Epoch 16\n",
            "-------------------------------\n",
            "batch=0 loss=0.056358  muestras-procesadas:[    0/50000]\n",
            "batch=10 loss=0.055888  muestras-procesadas:[10000/50000]\n",
            "batch=20 loss=0.055917  muestras-procesadas:[20000/50000]\n",
            "batch=30 loss=0.056269  muestras-procesadas:[30000/50000]\n",
            "batch=40 loss=0.054557  muestras-procesadas:[40000/50000]\n",
            "Entrenamiento Error: \n",
            "  Avg loss: 0.048835 \n",
            "\n",
            "Valid Error: \n",
            "  Avg loss: 0.048719 \n",
            "\n",
            "Epoch 17\n",
            "-------------------------------\n",
            "batch=0 loss=0.055337  muestras-procesadas:[    0/50000]\n",
            "batch=10 loss=0.053670  muestras-procesadas:[10000/50000]\n",
            "batch=20 loss=0.055778  muestras-procesadas:[20000/50000]\n",
            "batch=30 loss=0.053066  muestras-procesadas:[30000/50000]\n",
            "batch=40 loss=0.054753  muestras-procesadas:[40000/50000]\n",
            "Entrenamiento Error: \n",
            "  Avg loss: 0.048009 \n",
            "\n",
            "Valid Error: \n",
            "  Avg loss: 0.047893 \n",
            "\n",
            "Epoch 18\n",
            "-------------------------------\n",
            "batch=0 loss=0.052576  muestras-procesadas:[    0/50000]\n",
            "batch=10 loss=0.053501  muestras-procesadas:[10000/50000]\n",
            "batch=20 loss=0.052855  muestras-procesadas:[20000/50000]\n",
            "batch=30 loss=0.053025  muestras-procesadas:[30000/50000]\n",
            "batch=40 loss=0.052616  muestras-procesadas:[40000/50000]\n",
            "Entrenamiento Error: \n",
            "  Avg loss: 0.047121 \n",
            "\n",
            "Valid Error: \n",
            "  Avg loss: 0.047006 \n",
            "\n",
            "Epoch 19\n",
            "-------------------------------\n",
            "batch=0 loss=0.051714  muestras-procesadas:[    0/50000]\n",
            "batch=10 loss=0.051530  muestras-procesadas:[10000/50000]\n",
            "batch=20 loss=0.053186  muestras-procesadas:[20000/50000]\n",
            "batch=30 loss=0.052107  muestras-procesadas:[30000/50000]\n",
            "batch=40 loss=0.052719  muestras-procesadas:[40000/50000]\n",
            "Entrenamiento Error: \n",
            "  Avg loss: 0.046291 \n",
            "\n",
            "Valid Error: \n",
            "  Avg loss: 0.046179 \n",
            "\n",
            "Epoch 20\n",
            "-------------------------------\n",
            "batch=0 loss=0.052383  muestras-procesadas:[    0/50000]\n",
            "batch=10 loss=0.051891  muestras-procesadas:[10000/50000]\n",
            "batch=20 loss=0.052688  muestras-procesadas:[20000/50000]\n",
            "batch=30 loss=0.050612  muestras-procesadas:[30000/50000]\n",
            "batch=40 loss=0.051723  muestras-procesadas:[40000/50000]\n",
            "Entrenamiento Error: \n",
            "  Avg loss: 0.045557 \n",
            "\n",
            "Valid Error: \n",
            "  Avg loss: 0.045446 \n",
            "\n",
            "Epoch 21\n",
            "-------------------------------\n",
            "batch=0 loss=0.050494  muestras-procesadas:[    0/50000]\n",
            "batch=10 loss=0.051629  muestras-procesadas:[10000/50000]\n",
            "batch=20 loss=0.050240  muestras-procesadas:[20000/50000]\n",
            "batch=30 loss=0.050679  muestras-procesadas:[30000/50000]\n",
            "batch=40 loss=0.050788  muestras-procesadas:[40000/50000]\n",
            "Entrenamiento Error: \n",
            "  Avg loss: 0.044965 \n",
            "\n",
            "Valid Error: \n",
            "  Avg loss: 0.044854 \n",
            "\n",
            "Epoch 22\n",
            "-------------------------------\n",
            "batch=0 loss=0.051507  muestras-procesadas:[    0/50000]\n",
            "batch=10 loss=0.049912  muestras-procesadas:[10000/50000]\n",
            "batch=20 loss=0.051892  muestras-procesadas:[20000/50000]\n",
            "batch=30 loss=0.049953  muestras-procesadas:[30000/50000]\n",
            "batch=40 loss=0.050466  muestras-procesadas:[40000/50000]\n",
            "Entrenamiento Error: \n",
            "  Avg loss: 0.044268 \n",
            "\n",
            "Valid Error: \n",
            "  Avg loss: 0.044159 \n",
            "\n",
            "Epoch 23\n",
            "-------------------------------\n",
            "batch=0 loss=0.049229  muestras-procesadas:[    0/50000]\n",
            "batch=10 loss=0.050467  muestras-procesadas:[10000/50000]\n",
            "batch=20 loss=0.049953  muestras-procesadas:[20000/50000]\n",
            "batch=30 loss=0.048724  muestras-procesadas:[30000/50000]\n",
            "batch=40 loss=0.049708  muestras-procesadas:[40000/50000]\n",
            "Entrenamiento Error: \n",
            "  Avg loss: 0.043721 \n",
            "\n",
            "Valid Error: \n",
            "  Avg loss: 0.043613 \n",
            "\n",
            "Epoch 24\n",
            "-------------------------------\n",
            "batch=0 loss=0.051018  muestras-procesadas:[    0/50000]\n",
            "batch=10 loss=0.048710  muestras-procesadas:[10000/50000]\n",
            "batch=20 loss=0.048645  muestras-procesadas:[20000/50000]\n",
            "batch=30 loss=0.048279  muestras-procesadas:[30000/50000]\n",
            "batch=40 loss=0.048983  muestras-procesadas:[40000/50000]\n",
            "Entrenamiento Error: \n",
            "  Avg loss: 0.043333 \n",
            "\n",
            "Valid Error: \n",
            "  Avg loss: 0.043223 \n",
            "\n",
            "Epoch 25\n",
            "-------------------------------\n",
            "batch=0 loss=0.047853  muestras-procesadas:[    0/50000]\n",
            "batch=10 loss=0.048170  muestras-procesadas:[10000/50000]\n",
            "batch=20 loss=0.047899  muestras-procesadas:[20000/50000]\n",
            "batch=30 loss=0.048553  muestras-procesadas:[30000/50000]\n",
            "batch=40 loss=0.048601  muestras-procesadas:[40000/50000]\n",
            "Entrenamiento Error: \n",
            "  Avg loss: 0.042515 \n",
            "\n",
            "Valid Error: \n",
            "  Avg loss: 0.042412 \n",
            "\n",
            "Epoch 26\n",
            "-------------------------------\n",
            "batch=0 loss=0.048157  muestras-procesadas:[    0/50000]\n",
            "batch=10 loss=0.048514  muestras-procesadas:[10000/50000]\n",
            "batch=20 loss=0.048128  muestras-procesadas:[20000/50000]\n",
            "batch=30 loss=0.048145  muestras-procesadas:[30000/50000]\n",
            "batch=40 loss=0.047186  muestras-procesadas:[40000/50000]\n",
            "Entrenamiento Error: \n",
            "  Avg loss: 0.042030 \n",
            "\n",
            "Valid Error: \n",
            "  Avg loss: 0.041928 \n",
            "\n",
            "Epoch 27\n",
            "-------------------------------\n",
            "batch=0 loss=0.047999  muestras-procesadas:[    0/50000]\n",
            "batch=10 loss=0.047385  muestras-procesadas:[10000/50000]\n",
            "batch=20 loss=0.045218  muestras-procesadas:[20000/50000]\n",
            "batch=30 loss=0.047534  muestras-procesadas:[30000/50000]\n",
            "batch=40 loss=0.047222  muestras-procesadas:[40000/50000]\n",
            "Entrenamiento Error: \n",
            "  Avg loss: 0.041827 \n",
            "\n",
            "Valid Error: \n",
            "  Avg loss: 0.041723 \n",
            "\n",
            "Epoch 28\n",
            "-------------------------------\n",
            "batch=0 loss=0.046279  muestras-procesadas:[    0/50000]\n",
            "batch=10 loss=0.047751  muestras-procesadas:[10000/50000]\n",
            "batch=20 loss=0.047796  muestras-procesadas:[20000/50000]\n",
            "batch=30 loss=0.046548  muestras-procesadas:[30000/50000]\n",
            "batch=40 loss=0.046537  muestras-procesadas:[40000/50000]\n",
            "Entrenamiento Error: \n",
            "  Avg loss: 0.040992 \n",
            "\n",
            "Valid Error: \n",
            "  Avg loss: 0.040897 \n",
            "\n",
            "Epoch 29\n",
            "-------------------------------\n",
            "batch=0 loss=0.045987  muestras-procesadas:[    0/50000]\n",
            "batch=10 loss=0.045306  muestras-procesadas:[10000/50000]\n",
            "batch=20 loss=0.047070  muestras-procesadas:[20000/50000]\n",
            "batch=30 loss=0.046726  muestras-procesadas:[30000/50000]\n",
            "batch=40 loss=0.045723  muestras-procesadas:[40000/50000]\n",
            "Entrenamiento Error: \n",
            "  Avg loss: 0.040539 \n",
            "\n",
            "Valid Error: \n",
            "  Avg loss: 0.040446 \n",
            "\n",
            "Epoch 30\n",
            "-------------------------------\n",
            "batch=0 loss=0.046569  muestras-procesadas:[    0/50000]\n",
            "batch=10 loss=0.045818  muestras-procesadas:[10000/50000]\n",
            "batch=20 loss=0.044787  muestras-procesadas:[20000/50000]\n",
            "batch=30 loss=0.046911  muestras-procesadas:[30000/50000]\n",
            "batch=40 loss=0.045668  muestras-procesadas:[40000/50000]\n",
            "Entrenamiento Error: \n",
            "  Avg loss: 0.040105 \n",
            "\n",
            "Valid Error: \n",
            "  Avg loss: 0.040015 \n",
            "\n",
            "Done!\n",
            "El modelo tardó 417.2015874385834 segundos en ejecutarse.\n"
          ]
        }
      ],
      "source": [
        "entrenamiento(model)"
      ]
    },
    {
      "cell_type": "code",
      "execution_count": null,
      "metadata": {
        "id": "he50ps6480Y0"
      },
      "outputs": [],
      "source": [
        "# Gráfico para ver plots la loss cómo baja\n",
        "def grafico(list_models):\n",
        "  plt.xlabel('epoch')\n",
        "  plt.ylabel('loss')\n",
        "  paleta_colores_entrenada = sns.color_palette(\"bright\")\n",
        "  paleta_colores_valid = sns.color_palette(\"husl\", 8)\n",
        "  for i in range(len(list_models)):\n",
        "    plt.plot(range(1,len(list_models[i].list_train_avg_loss_entrenada)+1), list_models[i].list_train_avg_loss_entrenada,\n",
        "            label=f\"train error n={list_models[i].n}\", linestyle='-', c=paleta_colores_entrenada[i], linewidth=2.5)\n",
        "\n",
        "    plt.plot(range(1,len(list_models[i].list_valid_avg_loss)+1), list_models[i].list_valid_avg_loss,\n",
        "            label=f\"valid error n={list_models[i].n}\", linestyle='--', c=paleta_colores_valid[i], linewidth=2.5)\n",
        "  plt.legend()\n",
        "  plt.savefig('errores')\n",
        "  plt.show()\n"
      ]
    },
    {
      "cell_type": "code",
      "source": [
        "grafico([model])"
      ],
      "metadata": {
        "colab": {
          "base_uri": "https://localhost:8080/",
          "height": 449
        },
        "id": "Yl9P9yqi5qsn",
        "outputId": "be0ce9c0-eb0e-4632-ad27-e011934aa105"
      },
      "execution_count": null,
      "outputs": [
        {
          "output_type": "display_data",
          "data": {
            "text/plain": [
              "<Figure size 640x480 with 1 Axes>"
            ],
            "image/png": "[encoded data removed]"
          },
          "metadata": {}
        }
      ]
    },
    {
      "cell_type": "code",
      "execution_count": null,
      "metadata": {
        "colab": {
          "base_uri": "https://localhost:8080/"
        },
        "id": "ZGn9VTq-_FGt",
        "outputId": "c7767f5c-13b1-4b9e-c92a-4f897db0114b"
      },
      "outputs": [
        {
          "output_type": "stream",
          "name": "stdout",
          "text": [
            "Test Error: \n",
            "  Avg loss: 0.039926\n"
          ]
        },
        {
          "output_type": "execute_result",
          "data": {
            "text/plain": [
              "0.03992554247379303"
            ]
          },
          "metadata": {},
          "execution_count": 20
        }
      ],
      "source": [
        "test_loop(testloader,model,loss_fn)"
      ]
    },
    {
      "cell_type": "code",
      "execution_count": null,
      "metadata": {
        "id": "Axm9ea5k1ytR"
      },
      "outputs": [],
      "source": [
        "# gráfica de algunos ejemplos comparando la original con la predicción\n",
        "def ejemplos(model):\n",
        "  model.eval()\n",
        "  rows = 3 # Cantidad de ejemplos\n",
        "  figure = plt.figure(figsize=(4,4))\n",
        "  plt.suptitle(f'n={model.n}')\n",
        "  for i in range(0,rows):\n",
        "      j = torch.randint(len(testset),size=(1,)).item() # obtengo una fila al azar del conjunto\n",
        "      image = testset[j][0].to(device) # obtengo la imagen\n",
        "      predict = (torch.reshape(model(image), (28, 28))).to('cpu').detach().numpy() # predicción de la imágen\n",
        "\n",
        "      # imagen original\n",
        "      figure.add_subplot(rows,2,2*i+1)\n",
        "      if i==0:\n",
        "        plt.title('Original')\n",
        "      plt.axis(\"off\")\n",
        "      plt.imshow(image.squeeze().to('cpu'), cmap=\"Greys_r\")\n",
        "\n",
        "      # predicción\n",
        "      figure.add_subplot(rows,2,2*(i+1))\n",
        "      if i==0:\n",
        "        plt.title('Autoencoder')\n",
        "      plt.axis(\"off\")\n",
        "      plt.imshow(predict, cmap=\"Greys_r\")\n",
        "\n",
        "  # la guarda en el directorio\n",
        "  plt.savefig(f'Ejemplo n={model.n}', bbox_inches='tight', pad_inches=0.1)\n",
        "  plt.show()"
      ]
    },
    {
      "cell_type": "code",
      "execution_count": null,
      "metadata": {
        "colab": {
          "base_uri": "https://localhost:8080/",
          "height": 385
        },
        "id": "_SNvr6LJE0lw",
        "outputId": "053c2e08-6b70-46ed-ab81-43efd93833a4"
      },
      "outputs": [
        {
          "output_type": "display_data",
          "data": {
            "text/plain": [
              "<Figure size 400x400 with 6 Axes>"
            ],
            "image/png": "[encoded data removed]"
          },
          "metadata": {}
        }
      ],
      "source": [
        "ejemplos(model)"
      ]
    },
    {
      "cell_type": "code",
      "execution_count": null,
      "metadata": {
        "colab": {
          "base_uri": "https://localhost:8080/"
        },
        "id": "CPdjUj3Jy3Hh",
        "outputId": "1329391f-ea50-424a-ec5c-24205f4664f8"
      },
      "outputs": [
        {
          "output_type": "stream",
          "name": "stdout",
          "text": [
            "Collecting torchview\n",
            "  Downloading torchview-0.2.6-py3-none-any.whl (25 kB)\n",
            "Installing collected packages: torchview\n",
            "Successfully installed torchview-0.2.6\n"
          ]
        }
      ],
      "source": [
        "!pip install torchview"
      ]
    },
    {
      "cell_type": "code",
      "execution_count": null,
      "metadata": {
        "colab": {
          "base_uri": "https://localhost:8080/",
          "height": 685
        },
        "id": "c0XthQf8HURD",
        "outputId": "b705a060-f95e-461f-b97e-b9121566c930"
      },
      "outputs": [
        {
          "output_type": "execute_result",
          "data": {
            "image/svg+xml": "<?xml version=\"1.0\" encoding=\"UTF-8\" standalone=\"no\"?>\n<!DOCTYPE svg PUBLIC \"-//W3C//DTD SVG 1.1//EN\"\n \"http://www.w3.org/Graphics/SVG/1.1/DTD/svg11.dtd\">\n<!-- Generated by graphviz version 2.43.0 (0)\n -->\n<!-- Title: model Pages: 1 -->\n<svg width=\"221pt\" height=\"498pt\"\n viewBox=\"0.00 0.00 221.00 498.00\" xmlns=\"http://www.w3.org/2000/svg\" xmlns:xlink=\"http://www.w3.org/1999/xlink\">\n<g id=\"graph0\" class=\"graph\" transform=\"scale(1 1) rotate(0) translate(4 494)\">\n<title>model</title>\n<polygon fill=\"white\" stroke=\"transparent\" points=\"-4,4 -4,-494 217,-494 217,4 -4,4\"/>\n<!-- 0 -->\n<g id=\"node1\" class=\"node\">\n<title>0</title>\n<polygon fill=\"lightyellow\" stroke=\"transparent\" points=\"195.5,-490 17.5,-490 17.5,-458 195.5,-458 195.5,-490\"/>\n<polygon fill=\"none\" stroke=\"black\" points=\"17.5,-458 17.5,-490 100.5,-490 100.5,-458 17.5,-458\"/>\n<text text-anchor=\"start\" x=\"22.5\" y=\"-477\" font-family=\"Linux libertine\" font-size=\"10.00\">input&#45;tensor</text>\n<text text-anchor=\"start\" x=\"37.5\" y=\"-466\" font-family=\"Linux libertine\" font-size=\"10.00\">depth:0</text>\n<polygon fill=\"none\" stroke=\"black\" points=\"100.5,-458 100.5,-490 195.5,-490 195.5,-458 100.5,-458\"/>\n<text text-anchor=\"start\" x=\"105.5\" y=\"-471.5\" font-family=\"Linux libertine\" font-size=\"10.00\">(1000, 28, 28)</text>\n</g>\n<!-- 1 -->\n<g id=\"node2\" class=\"node\">\n<title>1</title>\n<polygon fill=\"#c1ffc1\" stroke=\"transparent\" points=\"213,-422 0,-422 0,-380 213,-380 213,-422\"/>\n<polygon fill=\"none\" stroke=\"black\" points=\"0.5,-380 0.5,-422 53.5,-422 53.5,-380 0.5,-380\"/>\n<text text-anchor=\"start\" x=\"5.5\" y=\"-404\" font-family=\"Linux libertine\" font-size=\"10.00\">Flatten</text>\n<text text-anchor=\"start\" x=\"5.5\" y=\"-393\" font-family=\"Linux libertine\" font-size=\"10.00\">depth:1</text>\n<polygon fill=\"none\" stroke=\"black\" points=\"53.5,-401 53.5,-422 112.5,-422 112.5,-401 53.5,-401\"/>\n<text text-anchor=\"start\" x=\"64.5\" y=\"-409\" font-family=\"Linux libertine\" font-size=\"10.00\">input:</text>\n<polygon fill=\"none\" stroke=\"black\" points=\"112.5,-401 112.5,-422 213.5,-422 213.5,-401 112.5,-401\"/>\n<text text-anchor=\"start\" x=\"117.5\" y=\"-409\" font-family=\"Linux libertine\" font-size=\"10.00\">(1000, 28, 28) </text>\n<polygon fill=\"none\" stroke=\"black\" points=\"53.5,-380 53.5,-401 112.5,-401 112.5,-380 53.5,-380\"/>\n<text text-anchor=\"start\" x=\"58.5\" y=\"-388\" font-family=\"Linux libertine\" font-size=\"10.00\">output: </text>\n<polygon fill=\"none\" stroke=\"black\" points=\"112.5,-380 112.5,-401 213.5,-401 213.5,-380 112.5,-380\"/>\n<text text-anchor=\"start\" x=\"126.5\" y=\"-388\" font-family=\"Linux libertine\" font-size=\"10.00\">(1000, 784) </text>\n</g>\n<!-- 0&#45;&gt;1 -->\n<g id=\"edge1\" class=\"edge\">\n<title>0&#45;&gt;1</title>\n<path fill=\"none\" stroke=\"black\" d=\"M106.5,-457.94C106.5,-450.45 106.5,-441.12 106.5,-432.24\"/>\n<polygon fill=\"black\" stroke=\"black\" points=\"110,-432.16 106.5,-422.16 103,-432.16 110,-432.16\"/>\n</g>\n<!-- 2 -->\n<g id=\"node3\" class=\"node\">\n<title>2</title>\n<polygon fill=\"#c1ffc1\" stroke=\"transparent\" points=\"204,-344 9,-344 9,-302 204,-302 204,-344\"/>\n<polygon fill=\"none\" stroke=\"black\" points=\"9.5,-302 9.5,-344 62.5,-344 62.5,-302 9.5,-302\"/>\n<text text-anchor=\"start\" x=\"17.5\" y=\"-326\" font-family=\"Linux libertine\" font-size=\"10.00\">Linear</text>\n<text text-anchor=\"start\" x=\"14.5\" y=\"-315\" font-family=\"Linux libertine\" font-size=\"10.00\">depth:1</text>\n<polygon fill=\"none\" stroke=\"black\" points=\"62.5,-323 62.5,-344 121.5,-344 121.5,-323 62.5,-323\"/>\n<text text-anchor=\"start\" x=\"73.5\" y=\"-331\" font-family=\"Linux libertine\" font-size=\"10.00\">input:</text>\n<polygon fill=\"none\" stroke=\"black\" points=\"121.5,-323 121.5,-344 204.5,-344 204.5,-323 121.5,-323\"/>\n<text text-anchor=\"start\" x=\"126.5\" y=\"-331\" font-family=\"Linux libertine\" font-size=\"10.00\">(1000, 784) </text>\n<polygon fill=\"none\" stroke=\"black\" points=\"62.5,-302 62.5,-323 121.5,-323 121.5,-302 62.5,-302\"/>\n<text text-anchor=\"start\" x=\"67.5\" y=\"-310\" font-family=\"Linux libertine\" font-size=\"10.00\">output: </text>\n<polygon fill=\"none\" stroke=\"black\" points=\"121.5,-302 121.5,-323 204.5,-323 204.5,-302 121.5,-302\"/>\n<text text-anchor=\"start\" x=\"129.5\" y=\"-310\" font-family=\"Linux libertine\" font-size=\"10.00\">(1000, 64) </text>\n</g>\n<!-- 1&#45;&gt;2 -->\n<g id=\"edge2\" class=\"edge\">\n<title>1&#45;&gt;2</title>\n<path fill=\"none\" stroke=\"black\" d=\"M106.5,-379.63C106.5,-371.82 106.5,-362.73 106.5,-354.18\"/>\n<polygon fill=\"black\" stroke=\"black\" points=\"110,-354.16 106.5,-344.16 103,-354.16 110,-354.16\"/>\n</g>\n<!-- 3 -->\n<g id=\"node4\" class=\"node\">\n<title>3</title>\n<polygon fill=\"#c1ffc1\" stroke=\"transparent\" points=\"201,-266 12,-266 12,-224 201,-224 201,-266\"/>\n<polygon fill=\"none\" stroke=\"black\" points=\"12.5,-224 12.5,-266 65.5,-266 65.5,-224 12.5,-224\"/>\n<text text-anchor=\"start\" x=\"26.5\" y=\"-248\" font-family=\"Linux libertine\" font-size=\"10.00\">ReLU</text>\n<text text-anchor=\"start\" x=\"17.5\" y=\"-237\" font-family=\"Linux libertine\" font-size=\"10.00\">depth:1</text>\n<polygon fill=\"none\" stroke=\"black\" points=\"65.5,-245 65.5,-266 124.5,-266 124.5,-245 65.5,-245\"/>\n<text text-anchor=\"start\" x=\"76.5\" y=\"-253\" font-family=\"Linux libertine\" font-size=\"10.00\">input:</text>\n<polygon fill=\"none\" stroke=\"black\" points=\"124.5,-245 124.5,-266 201.5,-266 201.5,-245 124.5,-245\"/>\n<text text-anchor=\"start\" x=\"129.5\" y=\"-253\" font-family=\"Linux libertine\" font-size=\"10.00\">(1000, 64) </text>\n<polygon fill=\"none\" stroke=\"black\" points=\"65.5,-224 65.5,-245 124.5,-245 124.5,-224 65.5,-224\"/>\n<text text-anchor=\"start\" x=\"70.5\" y=\"-232\" font-family=\"Linux libertine\" font-size=\"10.00\">output: </text>\n<polygon fill=\"none\" stroke=\"black\" points=\"124.5,-224 124.5,-245 201.5,-245 201.5,-224 124.5,-224\"/>\n<text text-anchor=\"start\" x=\"129.5\" y=\"-232\" font-family=\"Linux libertine\" font-size=\"10.00\">(1000, 64) </text>\n</g>\n<!-- 2&#45;&gt;3 -->\n<g id=\"edge3\" class=\"edge\">\n<title>2&#45;&gt;3</title>\n<path fill=\"none\" stroke=\"black\" d=\"M106.5,-301.63C106.5,-293.82 106.5,-284.73 106.5,-276.18\"/>\n<polygon fill=\"black\" stroke=\"black\" points=\"110,-276.16 106.5,-266.16 103,-276.16 110,-276.16\"/>\n</g>\n<!-- 4 -->\n<g id=\"node5\" class=\"node\">\n<title>4</title>\n<polygon fill=\"#c1ffc1\" stroke=\"transparent\" points=\"201,-188 12,-188 12,-146 201,-146 201,-188\"/>\n<polygon fill=\"none\" stroke=\"black\" points=\"12.5,-146 12.5,-188 65.5,-188 65.5,-146 12.5,-146\"/>\n<text text-anchor=\"start\" x=\"17.5\" y=\"-170\" font-family=\"Linux libertine\" font-size=\"10.00\">Dropout</text>\n<text text-anchor=\"start\" x=\"17.5\" y=\"-159\" font-family=\"Linux libertine\" font-size=\"10.00\">depth:1</text>\n<polygon fill=\"none\" stroke=\"black\" points=\"65.5,-167 65.5,-188 124.5,-188 124.5,-167 65.5,-167\"/>\n<text text-anchor=\"start\" x=\"76.5\" y=\"-175\" font-family=\"Linux libertine\" font-size=\"10.00\">input:</text>\n<polygon fill=\"none\" stroke=\"black\" points=\"124.5,-167 124.5,-188 201.5,-188 201.5,-167 124.5,-167\"/>\n<text text-anchor=\"start\" x=\"129.5\" y=\"-175\" font-family=\"Linux libertine\" font-size=\"10.00\">(1000, 64) </text>\n<polygon fill=\"none\" stroke=\"black\" points=\"65.5,-146 65.5,-167 124.5,-167 124.5,-146 65.5,-146\"/>\n<text text-anchor=\"start\" x=\"70.5\" y=\"-154\" font-family=\"Linux libertine\" font-size=\"10.00\">output: </text>\n<polygon fill=\"none\" stroke=\"black\" points=\"124.5,-146 124.5,-167 201.5,-167 201.5,-146 124.5,-146\"/>\n<text text-anchor=\"start\" x=\"129.5\" y=\"-154\" font-family=\"Linux libertine\" font-size=\"10.00\">(1000, 64) </text>\n</g>\n<!-- 3&#45;&gt;4 -->\n<g id=\"edge4\" class=\"edge\">\n<title>3&#45;&gt;4</title>\n<path fill=\"none\" stroke=\"black\" d=\"M106.5,-223.63C106.5,-215.82 106.5,-206.73 106.5,-198.18\"/>\n<polygon fill=\"black\" stroke=\"black\" points=\"110,-198.16 106.5,-188.16 103,-198.16 110,-198.16\"/>\n</g>\n<!-- 5 -->\n<g id=\"node6\" class=\"node\">\n<title>5</title>\n<polygon fill=\"#c1ffc1\" stroke=\"transparent\" points=\"204,-110 9,-110 9,-68 204,-68 204,-110\"/>\n<polygon fill=\"none\" stroke=\"black\" points=\"9.5,-68 9.5,-110 62.5,-110 62.5,-68 9.5,-68\"/>\n<text text-anchor=\"start\" x=\"17.5\" y=\"-92\" font-family=\"Linux libertine\" font-size=\"10.00\">Linear</text>\n<text text-anchor=\"start\" x=\"14.5\" y=\"-81\" font-family=\"Linux libertine\" font-size=\"10.00\">depth:1</text>\n<polygon fill=\"none\" stroke=\"black\" points=\"62.5,-89 62.5,-110 121.5,-110 121.5,-89 62.5,-89\"/>\n<text text-anchor=\"start\" x=\"73.5\" y=\"-97\" font-family=\"Linux libertine\" font-size=\"10.00\">input:</text>\n<polygon fill=\"none\" stroke=\"black\" points=\"121.5,-89 121.5,-110 204.5,-110 204.5,-89 121.5,-89\"/>\n<text text-anchor=\"start\" x=\"129.5\" y=\"-97\" font-family=\"Linux libertine\" font-size=\"10.00\">(1000, 64) </text>\n<polygon fill=\"none\" stroke=\"black\" points=\"62.5,-68 62.5,-89 121.5,-89 121.5,-68 62.5,-68\"/>\n<text text-anchor=\"start\" x=\"67.5\" y=\"-76\" font-family=\"Linux libertine\" font-size=\"10.00\">output: </text>\n<polygon fill=\"none\" stroke=\"black\" points=\"121.5,-68 121.5,-89 204.5,-89 204.5,-68 121.5,-68\"/>\n<text text-anchor=\"start\" x=\"126.5\" y=\"-76\" font-family=\"Linux libertine\" font-size=\"10.00\">(1000, 784) </text>\n</g>\n<!-- 4&#45;&gt;5 -->\n<g id=\"edge5\" class=\"edge\">\n<title>4&#45;&gt;5</title>\n<path fill=\"none\" stroke=\"black\" d=\"M106.5,-145.63C106.5,-137.82 106.5,-128.73 106.5,-120.18\"/>\n<polygon fill=\"black\" stroke=\"black\" points=\"110,-120.16 106.5,-110.16 103,-120.16 110,-120.16\"/>\n</g>\n<!-- 6 -->\n<g id=\"node7\" class=\"node\">\n<title>6</title>\n<polygon fill=\"lightyellow\" stroke=\"transparent\" points=\"189.5,-32 23.5,-32 23.5,0 189.5,0 189.5,-32\"/>\n<polygon fill=\"none\" stroke=\"black\" points=\"23.5,0 23.5,-32 112.5,-32 112.5,0 23.5,0\"/>\n<text text-anchor=\"start\" x=\"28.5\" y=\"-19\" font-family=\"Linux libertine\" font-size=\"10.00\">output&#45;tensor</text>\n<text text-anchor=\"start\" x=\"46.5\" y=\"-8\" font-family=\"Linux libertine\" font-size=\"10.00\">depth:0</text>\n<polygon fill=\"none\" stroke=\"black\" points=\"112.5,0 112.5,-32 189.5,-32 189.5,0 112.5,0\"/>\n<text text-anchor=\"start\" x=\"117.5\" y=\"-13.5\" font-family=\"Linux libertine\" font-size=\"10.00\">(1000, 784)</text>\n</g>\n<!-- 5&#45;&gt;6 -->\n<g id=\"edge6\" class=\"edge\">\n<title>5&#45;&gt;6</title>\n<path fill=\"none\" stroke=\"black\" d=\"M106.5,-67.84C106.5,-59.89 106.5,-50.66 106.5,-42.26\"/>\n<polygon fill=\"black\" stroke=\"black\" points=\"110,-42.24 106.5,-32.24 103,-42.24 110,-42.24\"/>\n</g>\n</g>\n</svg>\n",
            "text/plain": [
              "<graphviz.graphs.Digraph at 0x7ad6ac8b8430>"
            ]
          },
          "metadata": {},
          "execution_count": 24
        }
      ],
      "source": [
        "from torchview import draw_graph\n",
        "import graphviz\n",
        "\n",
        "# Define the device (CPU or GPU)\n",
        "device = 'cuda' if torch.cuda.is_available() else 'cpu'\n",
        "\n",
        "# Move the model to the device\n",
        "model.to(device)\n",
        "\n",
        "# Visualize the computational graph without performing a forward pass\n",
        "model_graph = draw_graph(model=model, input_size=(batch_size, 28, 28), expand_nested=True, device=device)\n",
        "model_graph.visual_graph.render('graph', format='svg', view=True)\n",
        "model_graph.visual_graph"
      ]
    },
    {
      "cell_type": "markdown",
      "metadata": {
        "id": "BN-5MOXyDK9f"
      },
      "source": [
        "## Modelo con 128 neuronas capa oculta"
      ]
    },
    {
      "cell_type": "code",
      "execution_count": null,
      "metadata": {
        "colab": {
          "base_uri": "https://localhost:8080/"
        },
        "id": "fjHeF8ejBcYt",
        "outputId": "c62d52d7-e034-4b85-8539-f4281470dd6e"
      },
      "outputs": [
        {
          "output_type": "execute_result",
          "data": {
            "text/plain": [
              "NeuralNetwork(\n",
              "  (flatten): Flatten(start_dim=1, end_dim=-1)\n",
              "  (capa1): Linear(in_features=784, out_features=128, bias=True)\n",
              "  (relu): ReLU()\n",
              "  (dropo): Dropout(p=0.1, inplace=False)\n",
              "  (capa2): Linear(in_features=128, out_features=784, bias=True)\n",
              ")"
            ]
          },
          "metadata": {},
          "execution_count": 25
        }
      ],
      "source": [
        "n = 128\n",
        "model_2 = NeuralNetwork(n, name='Modelo_2')\n",
        "model_2.to(device)"
      ]
    },
    {
      "cell_type": "code",
      "execution_count": null,
      "metadata": {
        "id": "p9LFnZs0GeoR"
      },
      "outputs": [],
      "source": [
        "optimizer = torch.optim.SGD(model_2.parameters(),lr=learning_rate)"
      ]
    },
    {
      "cell_type": "code",
      "execution_count": null,
      "metadata": {
        "colab": {
          "base_uri": "https://localhost:8080/"
        },
        "id": "eMh1Fd8bCW9i",
        "outputId": "6446f43e-02ae-4445-a66a-e48d3edb7189"
      },
      "outputs": [
        {
          "output_type": "stream",
          "name": "stdout",
          "text": [
            "Epoch 1\n",
            "-------------------------------\n",
            "batch=0 loss=0.228167  muestras-procesadas:[    0/50000]\n",
            "batch=10 loss=0.194427  muestras-procesadas:[10000/50000]\n",
            "batch=20 loss=0.174499  muestras-procesadas:[20000/50000]\n",
            "batch=30 loss=0.138748  muestras-procesadas:[30000/50000]\n",
            "batch=40 loss=0.104976  muestras-procesadas:[40000/50000]\n",
            "Entrenamiento Error: \n",
            "  Avg loss: 0.078907 \n",
            "\n",
            "Valid Error: \n",
            "  Avg loss: 0.078406 \n",
            "\n",
            "Epoch 2\n",
            "-------------------------------\n",
            "batch=0 loss=0.089342  muestras-procesadas:[    0/50000]\n",
            "batch=10 loss=0.079243  muestras-procesadas:[10000/50000]\n",
            "batch=20 loss=0.076670  muestras-procesadas:[20000/50000]\n",
            "batch=30 loss=0.073442  muestras-procesadas:[30000/50000]\n",
            "batch=40 loss=0.071394  muestras-procesadas:[40000/50000]\n",
            "Entrenamiento Error: \n",
            "  Avg loss: 0.063218 \n",
            "\n",
            "Valid Error: \n",
            "  Avg loss: 0.062981 \n",
            "\n",
            "Epoch 3\n",
            "-------------------------------\n",
            "batch=0 loss=0.073285  muestras-procesadas:[    0/50000]\n",
            "batch=10 loss=0.070421  muestras-procesadas:[10000/50000]\n",
            "batch=20 loss=0.070701  muestras-procesadas:[20000/50000]\n",
            "batch=30 loss=0.070135  muestras-procesadas:[30000/50000]\n",
            "batch=40 loss=0.068425  muestras-procesadas:[40000/50000]\n",
            "Entrenamiento Error: \n",
            "  Avg loss: 0.060250 \n",
            "\n",
            "Valid Error: \n",
            "  Avg loss: 0.060038 \n",
            "\n",
            "Epoch 4\n",
            "-------------------------------\n",
            "batch=0 loss=0.068026  muestras-procesadas:[    0/50000]\n",
            "batch=10 loss=0.066585  muestras-procesadas:[10000/50000]\n",
            "batch=20 loss=0.065945  muestras-procesadas:[20000/50000]\n",
            "batch=30 loss=0.065144  muestras-procesadas:[30000/50000]\n",
            "batch=40 loss=0.066666  muestras-procesadas:[40000/50000]\n",
            "Entrenamiento Error: \n",
            "  Avg loss: 0.057053 \n",
            "\n",
            "Valid Error: \n",
            "  Avg loss: 0.056856 \n",
            "\n",
            "Epoch 5\n",
            "-------------------------------\n",
            "batch=0 loss=0.063736  muestras-procesadas:[    0/50000]\n",
            "batch=10 loss=0.063598  muestras-procesadas:[10000/50000]\n",
            "batch=20 loss=0.061764  muestras-procesadas:[20000/50000]\n",
            "batch=30 loss=0.062134  muestras-procesadas:[30000/50000]\n",
            "batch=40 loss=0.061512  muestras-procesadas:[40000/50000]\n",
            "Entrenamiento Error: \n",
            "  Avg loss: 0.053898 \n",
            "\n",
            "Valid Error: \n",
            "  Avg loss: 0.053716 \n",
            "\n",
            "Epoch 6\n",
            "-------------------------------\n",
            "batch=0 loss=0.059856  muestras-procesadas:[    0/50000]\n",
            "batch=10 loss=0.060449  muestras-procesadas:[10000/50000]\n",
            "batch=20 loss=0.059333  muestras-procesadas:[20000/50000]\n",
            "batch=30 loss=0.057906  muestras-procesadas:[30000/50000]\n",
            "batch=40 loss=0.057734  muestras-procesadas:[40000/50000]\n",
            "Entrenamiento Error: \n",
            "  Avg loss: 0.051190 \n",
            "\n",
            "Valid Error: \n",
            "  Avg loss: 0.051018 \n",
            "\n",
            "Epoch 7\n",
            "-------------------------------\n",
            "batch=0 loss=0.059198  muestras-procesadas:[    0/50000]\n",
            "batch=10 loss=0.057498  muestras-procesadas:[10000/50000]\n",
            "batch=20 loss=0.056844  muestras-procesadas:[20000/50000]\n",
            "batch=30 loss=0.055927  muestras-procesadas:[30000/50000]\n",
            "batch=40 loss=0.055888  muestras-procesadas:[40000/50000]\n",
            "Entrenamiento Error: \n",
            "  Avg loss: 0.049055 \n",
            "\n",
            "Valid Error: \n",
            "  Avg loss: 0.048891 \n",
            "\n",
            "Epoch 8\n",
            "-------------------------------\n",
            "batch=0 loss=0.055451  muestras-procesadas:[    0/50000]\n",
            "batch=10 loss=0.055206  muestras-procesadas:[10000/50000]\n",
            "batch=20 loss=0.054165  muestras-procesadas:[20000/50000]\n",
            "batch=30 loss=0.054275  muestras-procesadas:[30000/50000]\n",
            "batch=40 loss=0.054308  muestras-procesadas:[40000/50000]\n",
            "Entrenamiento Error: \n",
            "  Avg loss: 0.047367 \n",
            "\n",
            "Valid Error: \n",
            "  Avg loss: 0.047209 \n",
            "\n",
            "Epoch 9\n",
            "-------------------------------\n",
            "batch=0 loss=0.053219  muestras-procesadas:[    0/50000]\n",
            "batch=10 loss=0.052642  muestras-procesadas:[10000/50000]\n",
            "batch=20 loss=0.052049  muestras-procesadas:[20000/50000]\n",
            "batch=30 loss=0.053260  muestras-procesadas:[30000/50000]\n",
            "batch=40 loss=0.051660  muestras-procesadas:[40000/50000]\n",
            "Entrenamiento Error: \n",
            "  Avg loss: 0.045995 \n",
            "\n",
            "Valid Error: \n",
            "  Avg loss: 0.045845 \n",
            "\n",
            "Epoch 10\n",
            "-------------------------------\n",
            "batch=0 loss=0.051574  muestras-procesadas:[    0/50000]\n",
            "batch=10 loss=0.053248  muestras-procesadas:[10000/50000]\n",
            "batch=20 loss=0.052579  muestras-procesadas:[20000/50000]\n",
            "batch=30 loss=0.050473  muestras-procesadas:[30000/50000]\n",
            "batch=40 loss=0.051425  muestras-procesadas:[40000/50000]\n",
            "Entrenamiento Error: \n",
            "  Avg loss: 0.044818 \n",
            "\n",
            "Valid Error: \n",
            "  Avg loss: 0.044673 \n",
            "\n",
            "Epoch 11\n",
            "-------------------------------\n",
            "batch=0 loss=0.051026  muestras-procesadas:[    0/50000]\n",
            "batch=10 loss=0.050393  muestras-procesadas:[10000/50000]\n",
            "batch=20 loss=0.050214  muestras-procesadas:[20000/50000]\n",
            "batch=30 loss=0.049713  muestras-procesadas:[30000/50000]\n",
            "batch=40 loss=0.050810  muestras-procesadas:[40000/50000]\n",
            "Entrenamiento Error: \n",
            "  Avg loss: 0.043786 \n",
            "\n",
            "Valid Error: \n",
            "  Avg loss: 0.043648 \n",
            "\n",
            "Epoch 12\n",
            "-------------------------------\n",
            "batch=0 loss=0.048794  muestras-procesadas:[    0/50000]\n",
            "batch=10 loss=0.049459  muestras-procesadas:[10000/50000]\n",
            "batch=20 loss=0.050754  muestras-procesadas:[20000/50000]\n",
            "batch=30 loss=0.049435  muestras-procesadas:[30000/50000]\n",
            "batch=40 loss=0.047864  muestras-procesadas:[40000/50000]\n",
            "Entrenamiento Error: \n",
            "  Avg loss: 0.042803 \n",
            "\n",
            "Valid Error: \n",
            "  Avg loss: 0.042671 \n",
            "\n",
            "Epoch 13\n",
            "-------------------------------\n",
            "batch=0 loss=0.049201  muestras-procesadas:[    0/50000]\n",
            "batch=10 loss=0.048890  muestras-procesadas:[10000/50000]\n",
            "batch=20 loss=0.047564  muestras-procesadas:[20000/50000]\n",
            "batch=30 loss=0.048275  muestras-procesadas:[30000/50000]\n",
            "batch=40 loss=0.047112  muestras-procesadas:[40000/50000]\n",
            "Entrenamiento Error: \n",
            "  Avg loss: 0.041915 \n",
            "\n",
            "Valid Error: \n",
            "  Avg loss: 0.041789 \n",
            "\n",
            "Epoch 14\n",
            "-------------------------------\n",
            "batch=0 loss=0.046932  muestras-procesadas:[    0/50000]\n",
            "batch=10 loss=0.046502  muestras-procesadas:[10000/50000]\n",
            "batch=20 loss=0.046193  muestras-procesadas:[20000/50000]\n",
            "batch=30 loss=0.046315  muestras-procesadas:[30000/50000]\n",
            "batch=40 loss=0.048537  muestras-procesadas:[40000/50000]\n",
            "Entrenamiento Error: \n",
            "  Avg loss: 0.041040 \n",
            "\n",
            "Valid Error: \n",
            "  Avg loss: 0.040921 \n",
            "\n",
            "Epoch 15\n",
            "-------------------------------\n",
            "batch=0 loss=0.047187  muestras-procesadas:[    0/50000]\n",
            "batch=10 loss=0.045264  muestras-procesadas:[10000/50000]\n",
            "batch=20 loss=0.046046  muestras-procesadas:[20000/50000]\n",
            "batch=30 loss=0.045221  muestras-procesadas:[30000/50000]\n",
            "batch=40 loss=0.046464  muestras-procesadas:[40000/50000]\n",
            "Entrenamiento Error: \n",
            "  Avg loss: 0.040194 \n",
            "\n",
            "Valid Error: \n",
            "  Avg loss: 0.040081 \n",
            "\n",
            "Epoch 16\n",
            "-------------------------------\n",
            "batch=0 loss=0.046136  muestras-procesadas:[    0/50000]\n",
            "batch=10 loss=0.045242  muestras-procesadas:[10000/50000]\n",
            "batch=20 loss=0.045160  muestras-procesadas:[20000/50000]\n",
            "batch=30 loss=0.045891  muestras-procesadas:[30000/50000]\n",
            "batch=40 loss=0.045039  muestras-procesadas:[40000/50000]\n",
            "Entrenamiento Error: \n",
            "  Avg loss: 0.039444 \n",
            "\n",
            "Valid Error: \n",
            "  Avg loss: 0.039338 \n",
            "\n",
            "Epoch 17\n",
            "-------------------------------\n",
            "batch=0 loss=0.044567  muestras-procesadas:[    0/50000]\n",
            "batch=10 loss=0.044466  muestras-procesadas:[10000/50000]\n",
            "batch=20 loss=0.044986  muestras-procesadas:[20000/50000]\n",
            "batch=30 loss=0.044106  muestras-procesadas:[30000/50000]\n",
            "batch=40 loss=0.043127  muestras-procesadas:[40000/50000]\n",
            "Entrenamiento Error: \n",
            "  Avg loss: 0.038702 \n",
            "\n",
            "Valid Error: \n",
            "  Avg loss: 0.038604 \n",
            "\n",
            "Epoch 18\n",
            "-------------------------------\n",
            "batch=0 loss=0.043998  muestras-procesadas:[    0/50000]\n",
            "batch=10 loss=0.044082  muestras-procesadas:[10000/50000]\n",
            "batch=20 loss=0.043544  muestras-procesadas:[20000/50000]\n",
            "batch=30 loss=0.043675  muestras-procesadas:[30000/50000]\n",
            "batch=40 loss=0.043144  muestras-procesadas:[40000/50000]\n",
            "Entrenamiento Error: \n",
            "  Avg loss: 0.038015 \n",
            "\n",
            "Valid Error: \n",
            "  Avg loss: 0.037923 \n",
            "\n",
            "Epoch 19\n",
            "-------------------------------\n",
            "batch=0 loss=0.043120  muestras-procesadas:[    0/50000]\n",
            "batch=10 loss=0.044176  muestras-procesadas:[10000/50000]\n",
            "batch=20 loss=0.043373  muestras-procesadas:[20000/50000]\n",
            "batch=30 loss=0.043423  muestras-procesadas:[30000/50000]\n",
            "batch=40 loss=0.042581  muestras-procesadas:[40000/50000]\n",
            "Entrenamiento Error: \n",
            "  Avg loss: 0.037354 \n",
            "\n",
            "Valid Error: \n",
            "  Avg loss: 0.037270 \n",
            "\n",
            "Epoch 20\n",
            "-------------------------------\n",
            "batch=0 loss=0.043035  muestras-procesadas:[    0/50000]\n",
            "batch=10 loss=0.042837  muestras-procesadas:[10000/50000]\n",
            "batch=20 loss=0.042194  muestras-procesadas:[20000/50000]\n",
            "batch=30 loss=0.041561  muestras-procesadas:[30000/50000]\n",
            "batch=40 loss=0.041562  muestras-procesadas:[40000/50000]\n",
            "Entrenamiento Error: \n",
            "  Avg loss: 0.036755 \n",
            "\n",
            "Valid Error: \n",
            "  Avg loss: 0.036679 \n",
            "\n",
            "Epoch 21\n",
            "-------------------------------\n",
            "batch=0 loss=0.042825  muestras-procesadas:[    0/50000]\n",
            "batch=10 loss=0.043034  muestras-procesadas:[10000/50000]\n",
            "batch=20 loss=0.041727  muestras-procesadas:[20000/50000]\n",
            "batch=30 loss=0.041781  muestras-procesadas:[30000/50000]\n",
            "batch=40 loss=0.042051  muestras-procesadas:[40000/50000]\n",
            "Entrenamiento Error: \n",
            "  Avg loss: 0.036203 \n",
            "\n",
            "Valid Error: \n",
            "  Avg loss: 0.036134 \n",
            "\n",
            "Epoch 22\n",
            "-------------------------------\n",
            "batch=0 loss=0.041594  muestras-procesadas:[    0/50000]\n",
            "batch=10 loss=0.041429  muestras-procesadas:[10000/50000]\n",
            "batch=20 loss=0.041359  muestras-procesadas:[20000/50000]\n",
            "batch=30 loss=0.041765  muestras-procesadas:[30000/50000]\n",
            "batch=40 loss=0.040738  muestras-procesadas:[40000/50000]\n",
            "Entrenamiento Error: \n",
            "  Avg loss: 0.035644 \n",
            "\n",
            "Valid Error: \n",
            "  Avg loss: 0.035582 \n",
            "\n",
            "Epoch 23\n",
            "-------------------------------\n",
            "batch=0 loss=0.039783  muestras-procesadas:[    0/50000]\n",
            "batch=10 loss=0.040686  muestras-procesadas:[10000/50000]\n",
            "batch=20 loss=0.040616  muestras-procesadas:[20000/50000]\n",
            "batch=30 loss=0.040832  muestras-procesadas:[30000/50000]\n",
            "batch=40 loss=0.040177  muestras-procesadas:[40000/50000]\n",
            "Entrenamiento Error: \n",
            "  Avg loss: 0.035138 \n",
            "\n",
            "Valid Error: \n",
            "  Avg loss: 0.035083 \n",
            "\n",
            "Epoch 24\n",
            "-------------------------------\n",
            "batch=0 loss=0.040372  muestras-procesadas:[    0/50000]\n",
            "batch=10 loss=0.039938  muestras-procesadas:[10000/50000]\n",
            "batch=20 loss=0.039285  muestras-procesadas:[20000/50000]\n",
            "batch=30 loss=0.041677  muestras-procesadas:[30000/50000]\n",
            "batch=40 loss=0.039651  muestras-procesadas:[40000/50000]\n",
            "Entrenamiento Error: \n",
            "  Avg loss: 0.034666 \n",
            "\n",
            "Valid Error: \n",
            "  Avg loss: 0.034617 \n",
            "\n",
            "Epoch 25\n",
            "-------------------------------\n",
            "batch=0 loss=0.040286  muestras-procesadas:[    0/50000]\n",
            "batch=10 loss=0.039827  muestras-procesadas:[10000/50000]\n",
            "batch=20 loss=0.039118  muestras-procesadas:[20000/50000]\n",
            "batch=30 loss=0.040126  muestras-procesadas:[30000/50000]\n",
            "batch=40 loss=0.038766  muestras-procesadas:[40000/50000]\n",
            "Entrenamiento Error: \n",
            "  Avg loss: 0.034226 \n",
            "\n",
            "Valid Error: \n",
            "  Avg loss: 0.034184 \n",
            "\n",
            "Epoch 26\n",
            "-------------------------------\n",
            "batch=0 loss=0.040508  muestras-procesadas:[    0/50000]\n",
            "batch=10 loss=0.039247  muestras-procesadas:[10000/50000]\n",
            "batch=20 loss=0.039149  muestras-procesadas:[20000/50000]\n",
            "batch=30 loss=0.039548  muestras-procesadas:[30000/50000]\n",
            "batch=40 loss=0.038937  muestras-procesadas:[40000/50000]\n",
            "Entrenamiento Error: \n",
            "  Avg loss: 0.033807 \n",
            "\n",
            "Valid Error: \n",
            "  Avg loss: 0.033771 \n",
            "\n",
            "Epoch 27\n",
            "-------------------------------\n",
            "batch=0 loss=0.038072  muestras-procesadas:[    0/50000]\n",
            "batch=10 loss=0.039429  muestras-procesadas:[10000/50000]\n",
            "batch=20 loss=0.039367  muestras-procesadas:[20000/50000]\n",
            "batch=30 loss=0.038373  muestras-procesadas:[30000/50000]\n",
            "batch=40 loss=0.038423  muestras-procesadas:[40000/50000]\n",
            "Entrenamiento Error: \n",
            "  Avg loss: 0.033391 \n",
            "\n",
            "Valid Error: \n",
            "  Avg loss: 0.033361 \n",
            "\n",
            "Epoch 28\n",
            "-------------------------------\n",
            "batch=0 loss=0.039148  muestras-procesadas:[    0/50000]\n",
            "batch=10 loss=0.038453  muestras-procesadas:[10000/50000]\n",
            "batch=20 loss=0.038660  muestras-procesadas:[20000/50000]\n",
            "batch=30 loss=0.038279  muestras-procesadas:[30000/50000]\n",
            "batch=40 loss=0.038652  muestras-procesadas:[40000/50000]\n",
            "Entrenamiento Error: \n",
            "  Avg loss: 0.032976 \n",
            "\n",
            "Valid Error: \n",
            "  Avg loss: 0.032953 \n",
            "\n",
            "Epoch 29\n",
            "-------------------------------\n",
            "batch=0 loss=0.037766  muestras-procesadas:[    0/50000]\n",
            "batch=10 loss=0.037807  muestras-procesadas:[10000/50000]\n",
            "batch=20 loss=0.037808  muestras-procesadas:[20000/50000]\n",
            "batch=30 loss=0.039098  muestras-procesadas:[30000/50000]\n",
            "batch=40 loss=0.037420  muestras-procesadas:[40000/50000]\n",
            "Entrenamiento Error: \n",
            "  Avg loss: 0.032681 \n",
            "\n",
            "Valid Error: \n",
            "  Avg loss: 0.032661 \n",
            "\n",
            "Epoch 30\n",
            "-------------------------------\n",
            "batch=0 loss=0.037703  muestras-procesadas:[    0/50000]\n",
            "batch=10 loss=0.037086  muestras-procesadas:[10000/50000]\n",
            "batch=20 loss=0.037174  muestras-procesadas:[20000/50000]\n",
            "batch=30 loss=0.036548  muestras-procesadas:[30000/50000]\n",
            "batch=40 loss=0.037425  muestras-procesadas:[40000/50000]\n",
            "Entrenamiento Error: \n",
            "  Avg loss: 0.032270 \n",
            "\n",
            "Valid Error: \n",
            "  Avg loss: 0.032258 \n",
            "\n",
            "Done!\n",
            "El modelo tardó 412.93435883522034 segundos en ejecutarse.\n"
          ]
        }
      ],
      "source": [
        "entrenamiento(model_2)"
      ]
    },
    {
      "cell_type": "code",
      "execution_count": null,
      "metadata": {
        "id": "j3gAiJc4CgaX",
        "colab": {
          "base_uri": "https://localhost:8080/",
          "height": 449
        },
        "outputId": "410e7f32-5bef-466d-be87-ed85fe996e6f"
      },
      "outputs": [
        {
          "output_type": "display_data",
          "data": {
            "text/plain": [
              "<Figure size 640x480 with 1 Axes>"
            ],
            "image/png": "[encoded data removed]"
          },
          "metadata": {}
        }
      ],
      "source": [
        "grafico([model, model_2])"
      ]
    },
    {
      "cell_type": "code",
      "execution_count": null,
      "metadata": {
        "id": "ZgR0BcnjE3YX",
        "colab": {
          "base_uri": "https://localhost:8080/",
          "height": 385
        },
        "outputId": "4b38f4e3-b8f2-4024-9fb7-4d5d1c3d58a7"
      },
      "outputs": [
        {
          "output_type": "display_data",
          "data": {
            "text/plain": [
              "<Figure size 400x400 with 6 Axes>"
            ],
            "image/png": "[encoded data removed]"
          },
          "metadata": {}
        }
      ],
      "source": [
        "ejemplos(model_2)"
      ]
    },
    {
      "cell_type": "code",
      "source": [
        "test_loop(testloader,model_2,loss_fn)"
      ],
      "metadata": {
        "id": "-8pUdbNBnpzF",
        "colab": {
          "base_uri": "https://localhost:8080/"
        },
        "outputId": "7d22f0da-2225-4924-882f-880aa8e2f13a"
      },
      "execution_count": null,
      "outputs": [
        {
          "output_type": "stream",
          "name": "stdout",
          "text": [
            "Test Error: \n",
            "  Avg loss: 0.032165\n"
          ]
        },
        {
          "output_type": "execute_result",
          "data": {
            "text/plain": [
              "0.03216520715504885"
            ]
          },
          "metadata": {},
          "execution_count": 30
        }
      ]
    },
    {
      "cell_type": "markdown",
      "metadata": {
        "id": "y4lBPeaGDPyG"
      },
      "source": [
        "## Modelo con 256 neuronas capa oculta"
      ]
    },
    {
      "cell_type": "code",
      "execution_count": null,
      "metadata": {
        "id": "ZLekRtkaDPyG",
        "colab": {
          "base_uri": "https://localhost:8080/"
        },
        "outputId": "3b2a5f18-9660-4f0c-cf3e-6326f58f85dc"
      },
      "outputs": [
        {
          "output_type": "execute_result",
          "data": {
            "text/plain": [
              "NeuralNetwork(\n",
              "  (flatten): Flatten(start_dim=1, end_dim=-1)\n",
              "  (capa1): Linear(in_features=784, out_features=256, bias=True)\n",
              "  (relu): ReLU()\n",
              "  (dropo): Dropout(p=0.1, inplace=False)\n",
              "  (capa2): Linear(in_features=256, out_features=784, bias=True)\n",
              ")"
            ]
          },
          "metadata": {},
          "execution_count": 31
        }
      ],
      "source": [
        "n = 256\n",
        "model_3 = NeuralNetwork(n, name='Modelo_3')\n",
        "model_3.to(device)"
      ]
    },
    {
      "cell_type": "code",
      "execution_count": null,
      "metadata": {
        "id": "d7U9VuNeGgvn"
      },
      "outputs": [],
      "source": [
        "optimizer = torch.optim.SGD(model_3.parameters(),lr=learning_rate)"
      ]
    },
    {
      "cell_type": "code",
      "execution_count": null,
      "metadata": {
        "id": "n2yRSu2b4N49",
        "colab": {
          "base_uri": "https://localhost:8080/"
        },
        "outputId": "a32d6715-6e74-493f-d078-7beff6608665"
      },
      "outputs": [
        {
          "output_type": "stream",
          "name": "stdout",
          "text": [
            "Epoch 1\n",
            "-------------------------------\n",
            "batch=0 loss=0.213796  muestras-procesadas:[    0/50000]\n",
            "batch=10 loss=0.169936  muestras-procesadas:[10000/50000]\n",
            "batch=20 loss=0.124908  muestras-procesadas:[20000/50000]\n",
            "batch=30 loss=0.087191  muestras-procesadas:[30000/50000]\n",
            "batch=40 loss=0.076893  muestras-procesadas:[40000/50000]\n",
            "Entrenamiento Error: \n",
            "  Avg loss: 0.064685 \n",
            "\n",
            "Valid Error: \n",
            "  Avg loss: 0.064449 \n",
            "\n",
            "Epoch 2\n",
            "-------------------------------\n",
            "batch=0 loss=0.072603  muestras-procesadas:[    0/50000]\n",
            "batch=10 loss=0.070413  muestras-procesadas:[10000/50000]\n",
            "batch=20 loss=0.068449  muestras-procesadas:[20000/50000]\n",
            "batch=30 loss=0.065881  muestras-procesadas:[30000/50000]\n",
            "batch=40 loss=0.066928  muestras-procesadas:[40000/50000]\n",
            "Entrenamiento Error: \n",
            "  Avg loss: 0.059416 \n",
            "\n",
            "Valid Error: \n",
            "  Avg loss: 0.059219 \n",
            "\n",
            "Epoch 3\n",
            "-------------------------------\n",
            "batch=0 loss=0.065498  muestras-procesadas:[    0/50000]\n",
            "batch=10 loss=0.064882  muestras-procesadas:[10000/50000]\n",
            "batch=20 loss=0.064512  muestras-procesadas:[20000/50000]\n",
            "batch=30 loss=0.060176  muestras-procesadas:[30000/50000]\n",
            "batch=40 loss=0.062118  muestras-procesadas:[40000/50000]\n",
            "Entrenamiento Error: \n",
            "  Avg loss: 0.054354 \n",
            "\n",
            "Valid Error: \n",
            "  Avg loss: 0.054184 \n",
            "\n",
            "Epoch 4\n",
            "-------------------------------\n",
            "batch=0 loss=0.060328  muestras-procesadas:[    0/50000]\n",
            "batch=10 loss=0.057814  muestras-procesadas:[10000/50000]\n",
            "batch=20 loss=0.057171  muestras-procesadas:[20000/50000]\n",
            "batch=30 loss=0.057058  muestras-procesadas:[30000/50000]\n",
            "batch=40 loss=0.055857  muestras-procesadas:[40000/50000]\n",
            "Entrenamiento Error: \n",
            "  Avg loss: 0.049720 \n",
            "\n",
            "Valid Error: \n",
            "  Avg loss: 0.049572 \n",
            "\n",
            "Epoch 5\n",
            "-------------------------------\n",
            "batch=0 loss=0.054142  muestras-procesadas:[    0/50000]\n",
            "batch=10 loss=0.054075  muestras-procesadas:[10000/50000]\n",
            "batch=20 loss=0.054101  muestras-procesadas:[20000/50000]\n",
            "batch=30 loss=0.052735  muestras-procesadas:[30000/50000]\n",
            "batch=40 loss=0.052088  muestras-procesadas:[40000/50000]\n",
            "Entrenamiento Error: \n",
            "  Avg loss: 0.046331 \n",
            "\n",
            "Valid Error: \n",
            "  Avg loss: 0.046202 \n",
            "\n",
            "Epoch 6\n",
            "-------------------------------\n",
            "batch=0 loss=0.051964  muestras-procesadas:[    0/50000]\n",
            "batch=10 loss=0.051026  muestras-procesadas:[10000/50000]\n",
            "batch=20 loss=0.051663  muestras-procesadas:[20000/50000]\n",
            "batch=30 loss=0.049565  muestras-procesadas:[30000/50000]\n",
            "batch=40 loss=0.050302  muestras-procesadas:[40000/50000]\n",
            "Entrenamiento Error: \n",
            "  Avg loss: 0.043902 \n",
            "\n",
            "Valid Error: \n",
            "  Avg loss: 0.043789 \n",
            "\n",
            "Epoch 7\n",
            "-------------------------------\n",
            "batch=0 loss=0.050316  muestras-procesadas:[    0/50000]\n",
            "batch=10 loss=0.049783  muestras-procesadas:[10000/50000]\n",
            "batch=20 loss=0.048315  muestras-procesadas:[20000/50000]\n",
            "batch=30 loss=0.048836  muestras-procesadas:[30000/50000]\n",
            "batch=40 loss=0.048019  muestras-procesadas:[40000/50000]\n",
            "Entrenamiento Error: \n",
            "  Avg loss: 0.042065 \n",
            "\n",
            "Valid Error: \n",
            "  Avg loss: 0.041965 \n",
            "\n",
            "Epoch 8\n",
            "-------------------------------\n",
            "batch=0 loss=0.047852  muestras-procesadas:[    0/50000]\n",
            "batch=10 loss=0.045913  muestras-procesadas:[10000/50000]\n",
            "batch=20 loss=0.046429  muestras-procesadas:[20000/50000]\n",
            "batch=30 loss=0.046343  muestras-procesadas:[30000/50000]\n",
            "batch=40 loss=0.046162  muestras-procesadas:[40000/50000]\n",
            "Entrenamiento Error: \n",
            "  Avg loss: 0.040481 \n",
            "\n",
            "Valid Error: \n",
            "  Avg loss: 0.040395 \n",
            "\n",
            "Epoch 9\n",
            "-------------------------------\n",
            "batch=0 loss=0.045579  muestras-procesadas:[    0/50000]\n",
            "batch=10 loss=0.045811  muestras-procesadas:[10000/50000]\n",
            "batch=20 loss=0.044928  muestras-procesadas:[20000/50000]\n",
            "batch=30 loss=0.044072  muestras-procesadas:[30000/50000]\n",
            "batch=40 loss=0.045269  muestras-procesadas:[40000/50000]\n",
            "Entrenamiento Error: \n",
            "  Avg loss: 0.039137 \n",
            "\n",
            "Valid Error: \n",
            "  Avg loss: 0.039065 \n",
            "\n",
            "Epoch 10\n",
            "-------------------------------\n",
            "batch=0 loss=0.042309  muestras-procesadas:[    0/50000]\n",
            "batch=10 loss=0.043722  muestras-procesadas:[10000/50000]\n",
            "batch=20 loss=0.043625  muestras-procesadas:[20000/50000]\n",
            "batch=30 loss=0.043869  muestras-procesadas:[30000/50000]\n",
            "batch=40 loss=0.042971  muestras-procesadas:[40000/50000]\n",
            "Entrenamiento Error: \n",
            "  Avg loss: 0.037939 \n",
            "\n",
            "Valid Error: \n",
            "  Avg loss: 0.037878 \n",
            "\n",
            "Epoch 11\n",
            "-------------------------------\n",
            "batch=0 loss=0.042470  muestras-procesadas:[    0/50000]\n",
            "batch=10 loss=0.041985  muestras-procesadas:[10000/50000]\n",
            "batch=20 loss=0.042758  muestras-procesadas:[20000/50000]\n",
            "batch=30 loss=0.041949  muestras-procesadas:[30000/50000]\n",
            "batch=40 loss=0.043501  muestras-procesadas:[40000/50000]\n",
            "Entrenamiento Error: \n",
            "  Avg loss: 0.036851 \n",
            "\n",
            "Valid Error: \n",
            "  Avg loss: 0.036801 \n",
            "\n",
            "Epoch 12\n",
            "-------------------------------\n",
            "batch=0 loss=0.040840  muestras-procesadas:[    0/50000]\n",
            "batch=10 loss=0.041506  muestras-procesadas:[10000/50000]\n",
            "batch=20 loss=0.041013  muestras-procesadas:[20000/50000]\n",
            "batch=30 loss=0.040776  muestras-procesadas:[30000/50000]\n",
            "batch=40 loss=0.041171  muestras-procesadas:[40000/50000]\n",
            "Entrenamiento Error: \n",
            "  Avg loss: 0.035900 \n",
            "\n",
            "Valid Error: \n",
            "  Avg loss: 0.035860 \n",
            "\n",
            "Epoch 13\n",
            "-------------------------------\n",
            "batch=0 loss=0.040201  muestras-procesadas:[    0/50000]\n",
            "batch=10 loss=0.041086  muestras-procesadas:[10000/50000]\n",
            "batch=20 loss=0.039990  muestras-procesadas:[20000/50000]\n",
            "batch=30 loss=0.039458  muestras-procesadas:[30000/50000]\n",
            "batch=40 loss=0.039806  muestras-procesadas:[40000/50000]\n",
            "Entrenamiento Error: \n",
            "  Avg loss: 0.035017 \n",
            "\n",
            "Valid Error: \n",
            "  Avg loss: 0.034987 \n",
            "\n",
            "Epoch 14\n",
            "-------------------------------\n",
            "batch=0 loss=0.039219  muestras-procesadas:[    0/50000]\n",
            "batch=10 loss=0.038232  muestras-procesadas:[10000/50000]\n",
            "batch=20 loss=0.039767  muestras-procesadas:[20000/50000]\n",
            "batch=30 loss=0.039565  muestras-procesadas:[30000/50000]\n",
            "batch=40 loss=0.038515  muestras-procesadas:[40000/50000]\n",
            "Entrenamiento Error: \n",
            "  Avg loss: 0.034233 \n",
            "\n",
            "Valid Error: \n",
            "  Avg loss: 0.034212 \n",
            "\n",
            "Epoch 15\n",
            "-------------------------------\n",
            "batch=0 loss=0.039140  muestras-procesadas:[    0/50000]\n",
            "batch=10 loss=0.038259  muestras-procesadas:[10000/50000]\n",
            "batch=20 loss=0.038874  muestras-procesadas:[20000/50000]\n",
            "batch=30 loss=0.036757  muestras-procesadas:[30000/50000]\n",
            "batch=40 loss=0.037177  muestras-procesadas:[40000/50000]\n",
            "Entrenamiento Error: \n",
            "  Avg loss: 0.033502 \n",
            "\n",
            "Valid Error: \n",
            "  Avg loss: 0.033490 \n",
            "\n",
            "Epoch 16\n",
            "-------------------------------\n",
            "batch=0 loss=0.037952  muestras-procesadas:[    0/50000]\n",
            "batch=10 loss=0.036476  muestras-procesadas:[10000/50000]\n",
            "batch=20 loss=0.038137  muestras-procesadas:[20000/50000]\n",
            "batch=30 loss=0.036724  muestras-procesadas:[30000/50000]\n",
            "batch=40 loss=0.038401  muestras-procesadas:[40000/50000]\n",
            "Entrenamiento Error: \n",
            "  Avg loss: 0.032849 \n",
            "\n",
            "Valid Error: \n",
            "  Avg loss: 0.032844 \n",
            "\n",
            "Epoch 17\n",
            "-------------------------------\n",
            "batch=0 loss=0.036192  muestras-procesadas:[    0/50000]\n",
            "batch=10 loss=0.037381  muestras-procesadas:[10000/50000]\n",
            "batch=20 loss=0.036707  muestras-procesadas:[20000/50000]\n",
            "batch=30 loss=0.037728  muestras-procesadas:[30000/50000]\n",
            "batch=40 loss=0.037014  muestras-procesadas:[40000/50000]\n",
            "Entrenamiento Error: \n",
            "  Avg loss: 0.032254 \n",
            "\n",
            "Valid Error: \n",
            "  Avg loss: 0.032255 \n",
            "\n",
            "Epoch 18\n",
            "-------------------------------\n",
            "batch=0 loss=0.037777  muestras-procesadas:[    0/50000]\n",
            "batch=10 loss=0.037055  muestras-procesadas:[10000/50000]\n",
            "batch=20 loss=0.036156  muestras-procesadas:[20000/50000]\n",
            "batch=30 loss=0.036652  muestras-procesadas:[30000/50000]\n",
            "batch=40 loss=0.035948  muestras-procesadas:[40000/50000]\n",
            "Entrenamiento Error: \n",
            "  Avg loss: 0.031670 \n",
            "\n",
            "Valid Error: \n",
            "  Avg loss: 0.031677 \n",
            "\n",
            "Epoch 19\n",
            "-------------------------------\n",
            "batch=0 loss=0.036360  muestras-procesadas:[    0/50000]\n",
            "batch=10 loss=0.036936  muestras-procesadas:[10000/50000]\n",
            "batch=20 loss=0.035907  muestras-procesadas:[20000/50000]\n",
            "batch=30 loss=0.035524  muestras-procesadas:[30000/50000]\n",
            "batch=40 loss=0.035911  muestras-procesadas:[40000/50000]\n",
            "Entrenamiento Error: \n",
            "  Avg loss: 0.031140 \n",
            "\n",
            "Valid Error: \n",
            "  Avg loss: 0.031154 \n",
            "\n",
            "Epoch 20\n",
            "-------------------------------\n",
            "batch=0 loss=0.035726  muestras-procesadas:[    0/50000]\n",
            "batch=10 loss=0.035550  muestras-procesadas:[10000/50000]\n",
            "batch=20 loss=0.035917  muestras-procesadas:[20000/50000]\n",
            "batch=30 loss=0.036163  muestras-procesadas:[30000/50000]\n",
            "batch=40 loss=0.034321  muestras-procesadas:[40000/50000]\n",
            "Entrenamiento Error: \n",
            "  Avg loss: 0.030658 \n",
            "\n",
            "Valid Error: \n",
            "  Avg loss: 0.030676 \n",
            "\n",
            "Epoch 21\n",
            "-------------------------------\n",
            "batch=0 loss=0.034093  muestras-procesadas:[    0/50000]\n",
            "batch=10 loss=0.035033  muestras-procesadas:[10000/50000]\n",
            "batch=20 loss=0.034911  muestras-procesadas:[20000/50000]\n",
            "batch=30 loss=0.034950  muestras-procesadas:[30000/50000]\n",
            "batch=40 loss=0.034326  muestras-procesadas:[40000/50000]\n",
            "Entrenamiento Error: \n",
            "  Avg loss: 0.030209 \n",
            "\n",
            "Valid Error: \n",
            "  Avg loss: 0.030232 \n",
            "\n",
            "Epoch 22\n",
            "-------------------------------\n",
            "batch=0 loss=0.034582  muestras-procesadas:[    0/50000]\n",
            "batch=10 loss=0.035198  muestras-procesadas:[10000/50000]\n",
            "batch=20 loss=0.033664  muestras-procesadas:[20000/50000]\n",
            "batch=30 loss=0.033481  muestras-procesadas:[30000/50000]\n",
            "batch=40 loss=0.033622  muestras-procesadas:[40000/50000]\n",
            "Entrenamiento Error: \n",
            "  Avg loss: 0.029794 \n",
            "\n",
            "Valid Error: \n",
            "  Avg loss: 0.029822 \n",
            "\n",
            "Epoch 23\n",
            "-------------------------------\n",
            "batch=0 loss=0.033827  muestras-procesadas:[    0/50000]\n",
            "batch=10 loss=0.034608  muestras-procesadas:[10000/50000]\n",
            "batch=20 loss=0.033703  muestras-procesadas:[20000/50000]\n",
            "batch=30 loss=0.033814  muestras-procesadas:[30000/50000]\n",
            "batch=40 loss=0.034246  muestras-procesadas:[40000/50000]\n",
            "Entrenamiento Error: \n",
            "  Avg loss: 0.029410 \n",
            "\n",
            "Valid Error: \n",
            "  Avg loss: 0.029442 \n",
            "\n",
            "Epoch 24\n",
            "-------------------------------\n",
            "batch=0 loss=0.032985  muestras-procesadas:[    0/50000]\n",
            "batch=10 loss=0.033162  muestras-procesadas:[10000/50000]\n",
            "batch=20 loss=0.033567  muestras-procesadas:[20000/50000]\n",
            "batch=30 loss=0.033635  muestras-procesadas:[30000/50000]\n",
            "batch=40 loss=0.033703  muestras-procesadas:[40000/50000]\n",
            "Entrenamiento Error: \n",
            "  Avg loss: 0.029035 \n",
            "\n",
            "Valid Error: \n",
            "  Avg loss: 0.029070 \n",
            "\n",
            "Epoch 25\n",
            "-------------------------------\n",
            "batch=0 loss=0.032956  muestras-procesadas:[    0/50000]\n",
            "batch=10 loss=0.032850  muestras-procesadas:[10000/50000]\n",
            "batch=20 loss=0.033400  muestras-procesadas:[20000/50000]\n",
            "batch=30 loss=0.033521  muestras-procesadas:[30000/50000]\n",
            "batch=40 loss=0.032268  muestras-procesadas:[40000/50000]\n",
            "Entrenamiento Error: \n",
            "  Avg loss: 0.028700 \n",
            "\n",
            "Valid Error: \n",
            "  Avg loss: 0.028739 \n",
            "\n",
            "Epoch 26\n",
            "-------------------------------\n",
            "batch=0 loss=0.032857  muestras-procesadas:[    0/50000]\n",
            "batch=10 loss=0.033881  muestras-procesadas:[10000/50000]\n",
            "batch=20 loss=0.031921  muestras-procesadas:[20000/50000]\n",
            "batch=30 loss=0.032836  muestras-procesadas:[30000/50000]\n",
            "batch=40 loss=0.032506  muestras-procesadas:[40000/50000]\n",
            "Entrenamiento Error: \n",
            "  Avg loss: 0.028376 \n",
            "\n",
            "Valid Error: \n",
            "  Avg loss: 0.028418 \n",
            "\n",
            "Epoch 27\n",
            "-------------------------------\n",
            "batch=0 loss=0.031999  muestras-procesadas:[    0/50000]\n",
            "batch=10 loss=0.032135  muestras-procesadas:[10000/50000]\n",
            "batch=20 loss=0.032139  muestras-procesadas:[20000/50000]\n",
            "batch=30 loss=0.032037  muestras-procesadas:[30000/50000]\n",
            "batch=40 loss=0.031994  muestras-procesadas:[40000/50000]\n",
            "Entrenamiento Error: \n",
            "  Avg loss: 0.028082 \n",
            "\n",
            "Valid Error: \n",
            "  Avg loss: 0.028127 \n",
            "\n",
            "Epoch 28\n",
            "-------------------------------\n",
            "batch=0 loss=0.032044  muestras-procesadas:[    0/50000]\n",
            "batch=10 loss=0.031221  muestras-procesadas:[10000/50000]\n",
            "batch=20 loss=0.032476  muestras-procesadas:[20000/50000]\n",
            "batch=30 loss=0.032375  muestras-procesadas:[30000/50000]\n",
            "batch=40 loss=0.031624  muestras-procesadas:[40000/50000]\n",
            "Entrenamiento Error: \n",
            "  Avg loss: 0.027780 \n",
            "\n",
            "Valid Error: \n",
            "  Avg loss: 0.027829 \n",
            "\n",
            "Epoch 29\n",
            "-------------------------------\n",
            "batch=0 loss=0.032132  muestras-procesadas:[    0/50000]\n",
            "batch=10 loss=0.032564  muestras-procesadas:[10000/50000]\n",
            "batch=20 loss=0.032027  muestras-procesadas:[20000/50000]\n",
            "batch=30 loss=0.031611  muestras-procesadas:[30000/50000]\n",
            "batch=40 loss=0.030528  muestras-procesadas:[40000/50000]\n",
            "Entrenamiento Error: \n",
            "  Avg loss: 0.027531 \n",
            "\n",
            "Valid Error: \n",
            "  Avg loss: 0.027581 \n",
            "\n",
            "Epoch 30\n",
            "-------------------------------\n",
            "batch=0 loss=0.032166  muestras-procesadas:[    0/50000]\n",
            "batch=10 loss=0.031551  muestras-procesadas:[10000/50000]\n",
            "batch=20 loss=0.031330  muestras-procesadas:[20000/50000]\n",
            "batch=30 loss=0.031023  muestras-procesadas:[30000/50000]\n",
            "batch=40 loss=0.031390  muestras-procesadas:[40000/50000]\n",
            "Entrenamiento Error: \n",
            "  Avg loss: 0.027258 \n",
            "\n",
            "Valid Error: \n",
            "  Avg loss: 0.027311 \n",
            "\n",
            "Done!\n",
            "El modelo tardó 416.84848070144653 segundos en ejecutarse.\n"
          ]
        }
      ],
      "source": [
        "entrenamiento(model_3)"
      ]
    },
    {
      "cell_type": "code",
      "execution_count": null,
      "metadata": {
        "id": "hZ0_PPs-4N49",
        "colab": {
          "base_uri": "https://localhost:8080/",
          "height": 449
        },
        "outputId": "d2b52c62-742a-4119-b40c-71f859a0604b"
      },
      "outputs": [
        {
          "output_type": "display_data",
          "data": {
            "text/plain": [
              "<Figure size 640x480 with 1 Axes>"
            ],
            "image/png": "[encoded data removed]"
          },
          "metadata": {}
        }
      ],
      "source": [
        "grafico([model, model_2, model_3])"
      ]
    },
    {
      "cell_type": "code",
      "execution_count": null,
      "metadata": {
        "id": "a6bCVe7pE4rn",
        "colab": {
          "base_uri": "https://localhost:8080/",
          "height": 385
        },
        "outputId": "406eb321-1134-4403-d5e2-6291fc6adfd2"
      },
      "outputs": [
        {
          "output_type": "display_data",
          "data": {
            "text/plain": [
              "<Figure size 400x400 with 6 Axes>"
            ],
            "image/png": "[encoded data removed]"
          },
          "metadata": {}
        }
      ],
      "source": [
        "ejemplos(model_3)"
      ]
    },
    {
      "cell_type": "code",
      "source": [
        "test_loop(testloader,model_3,loss_fn)"
      ],
      "metadata": {
        "id": "IGy3kIpEns9v",
        "colab": {
          "base_uri": "https://localhost:8080/"
        },
        "outputId": "49ce5904-e904-424b-94f5-bb9a68c5ff97"
      },
      "execution_count": null,
      "outputs": [
        {
          "output_type": "stream",
          "name": "stdout",
          "text": [
            "Test Error: \n",
            "  Avg loss: 0.027209\n"
          ]
        },
        {
          "output_type": "execute_result",
          "data": {
            "text/plain": [
              "0.027209203317761423"
            ]
          },
          "metadata": {},
          "execution_count": 36
        }
      ]
    },
    {
      "cell_type": "markdown",
      "metadata": {
        "id": "vxc8H-RhDXCp"
      },
      "source": [
        "## Modelo con 512 neuronas capa oculta"
      ]
    },
    {
      "cell_type": "code",
      "execution_count": null,
      "metadata": {
        "id": "jxAwExamDXCp",
        "colab": {
          "base_uri": "https://localhost:8080/"
        },
        "outputId": "cd11cf48-e398-4d12-992e-d63f6e5bd188"
      },
      "outputs": [
        {
          "output_type": "execute_result",
          "data": {
            "text/plain": [
              "NeuralNetwork(\n",
              "  (flatten): Flatten(start_dim=1, end_dim=-1)\n",
              "  (capa1): Linear(in_features=784, out_features=512, bias=True)\n",
              "  (relu): ReLU()\n",
              "  (dropo): Dropout(p=0.1, inplace=False)\n",
              "  (capa2): Linear(in_features=512, out_features=784, bias=True)\n",
              ")"
            ]
          },
          "metadata": {},
          "execution_count": 37
        }
      ],
      "source": [
        "n = 512\n",
        "model_4 = NeuralNetwork(n, name='Modelo_4')\n",
        "model_4.to(device)"
      ]
    },
    {
      "cell_type": "code",
      "execution_count": null,
      "metadata": {
        "id": "kFUMJRb8GiwH"
      },
      "outputs": [],
      "source": [
        "optimizer = torch.optim.SGD(model_4.parameters(),lr=learning_rate)\n",
        "#optimizer = torch.optim.Adam(model_4.parameters(),lr=learning_rate,eps=1e-08,weight_decay=0,amsgrad=False)"
      ]
    },
    {
      "cell_type": "code",
      "execution_count": null,
      "metadata": {
        "id": "KGTYE8ao4Rm8",
        "colab": {
          "base_uri": "https://localhost:8080/"
        },
        "outputId": "b4c488de-0a03-4ab9-89af-6210b9dd2daf"
      },
      "outputs": [
        {
          "output_type": "stream",
          "name": "stdout",
          "text": [
            "Epoch 1\n",
            "-------------------------------\n",
            "batch=0 loss=0.223490  muestras-procesadas:[    0/50000]\n",
            "batch=10 loss=0.138104  muestras-procesadas:[10000/50000]\n",
            "batch=20 loss=0.081579  muestras-procesadas:[20000/50000]\n",
            "batch=30 loss=0.070782  muestras-procesadas:[30000/50000]\n",
            "batch=40 loss=0.064750  muestras-procesadas:[40000/50000]\n",
            "Entrenamiento Error: \n",
            "  Avg loss: 0.060228 \n",
            "\n",
            "Valid Error: \n",
            "  Avg loss: 0.060012 \n",
            "\n",
            "Epoch 2\n",
            "-------------------------------\n",
            "batch=0 loss=0.065390  muestras-procesadas:[    0/50000]\n",
            "batch=10 loss=0.063955  muestras-procesadas:[10000/50000]\n",
            "batch=20 loss=0.062991  muestras-procesadas:[20000/50000]\n",
            "batch=30 loss=0.060990  muestras-procesadas:[30000/50000]\n",
            "batch=40 loss=0.057943  muestras-procesadas:[40000/50000]\n",
            "Entrenamiento Error: \n",
            "  Avg loss: 0.052163 \n",
            "\n",
            "Valid Error: \n",
            "  Avg loss: 0.051994 \n",
            "\n",
            "Epoch 3\n",
            "-------------------------------\n",
            "batch=0 loss=0.055907  muestras-procesadas:[    0/50000]\n",
            "batch=10 loss=0.055542  muestras-procesadas:[10000/50000]\n",
            "batch=20 loss=0.054861  muestras-procesadas:[20000/50000]\n",
            "batch=30 loss=0.053240  muestras-procesadas:[30000/50000]\n",
            "batch=40 loss=0.051915  muestras-procesadas:[40000/50000]\n",
            "Entrenamiento Error: \n",
            "  Avg loss: 0.046071 \n",
            "\n",
            "Valid Error: \n",
            "  Avg loss: 0.045937 \n",
            "\n",
            "Epoch 4\n",
            "-------------------------------\n",
            "batch=0 loss=0.051083  muestras-procesadas:[    0/50000]\n",
            "batch=10 loss=0.050074  muestras-procesadas:[10000/50000]\n",
            "batch=20 loss=0.048121  muestras-procesadas:[20000/50000]\n",
            "batch=30 loss=0.048183  muestras-procesadas:[30000/50000]\n",
            "batch=40 loss=0.047460  muestras-procesadas:[40000/50000]\n",
            "Entrenamiento Error: \n",
            "  Avg loss: 0.042408 \n",
            "\n",
            "Valid Error: \n",
            "  Avg loss: 0.042301 \n",
            "\n",
            "Epoch 5\n",
            "-------------------------------\n",
            "batch=0 loss=0.046024  muestras-procesadas:[    0/50000]\n",
            "batch=10 loss=0.047454  muestras-procesadas:[10000/50000]\n",
            "batch=20 loss=0.046830  muestras-procesadas:[20000/50000]\n",
            "batch=30 loss=0.045233  muestras-procesadas:[30000/50000]\n",
            "batch=40 loss=0.044738  muestras-procesadas:[40000/50000]\n",
            "Entrenamiento Error: \n",
            "  Avg loss: 0.039909 \n",
            "\n",
            "Valid Error: \n",
            "  Avg loss: 0.039822 \n",
            "\n",
            "Epoch 6\n",
            "-------------------------------\n",
            "batch=0 loss=0.043515  muestras-procesadas:[    0/50000]\n",
            "batch=10 loss=0.042896  muestras-procesadas:[10000/50000]\n",
            "batch=20 loss=0.044002  muestras-procesadas:[20000/50000]\n",
            "batch=30 loss=0.042817  muestras-procesadas:[30000/50000]\n",
            "batch=40 loss=0.042046  muestras-procesadas:[40000/50000]\n",
            "Entrenamiento Error: \n",
            "  Avg loss: 0.037961 \n",
            "\n",
            "Valid Error: \n",
            "  Avg loss: 0.037893 \n",
            "\n",
            "Epoch 7\n",
            "-------------------------------\n",
            "batch=0 loss=0.042411  muestras-procesadas:[    0/50000]\n",
            "batch=10 loss=0.042063  muestras-procesadas:[10000/50000]\n",
            "batch=20 loss=0.041394  muestras-procesadas:[20000/50000]\n",
            "batch=30 loss=0.040930  muestras-procesadas:[30000/50000]\n",
            "batch=40 loss=0.041559  muestras-procesadas:[40000/50000]\n",
            "Entrenamiento Error: \n",
            "  Avg loss: 0.036330 \n",
            "\n",
            "Valid Error: \n",
            "  Avg loss: 0.036278 \n",
            "\n",
            "Epoch 8\n",
            "-------------------------------\n",
            "batch=0 loss=0.041260  muestras-procesadas:[    0/50000]\n",
            "batch=10 loss=0.040071  muestras-procesadas:[10000/50000]\n",
            "batch=20 loss=0.039866  muestras-procesadas:[20000/50000]\n",
            "batch=30 loss=0.038991  muestras-procesadas:[30000/50000]\n",
            "batch=40 loss=0.038963  muestras-procesadas:[40000/50000]\n",
            "Entrenamiento Error: \n",
            "  Avg loss: 0.034946 \n",
            "\n",
            "Valid Error: \n",
            "  Avg loss: 0.034909 \n",
            "\n",
            "Epoch 9\n",
            "-------------------------------\n",
            "batch=0 loss=0.038675  muestras-procesadas:[    0/50000]\n",
            "batch=10 loss=0.038181  muestras-procesadas:[10000/50000]\n",
            "batch=20 loss=0.037951  muestras-procesadas:[20000/50000]\n",
            "batch=30 loss=0.037658  muestras-procesadas:[30000/50000]\n",
            "batch=40 loss=0.039360  muestras-procesadas:[40000/50000]\n",
            "Entrenamiento Error: \n",
            "  Avg loss: 0.033730 \n",
            "\n",
            "Valid Error: \n",
            "  Avg loss: 0.033709 \n",
            "\n",
            "Epoch 10\n",
            "-------------------------------\n",
            "batch=0 loss=0.037986  muestras-procesadas:[    0/50000]\n",
            "batch=10 loss=0.036681  muestras-procesadas:[10000/50000]\n",
            "batch=20 loss=0.037051  muestras-procesadas:[20000/50000]\n",
            "batch=30 loss=0.036853  muestras-procesadas:[30000/50000]\n",
            "batch=40 loss=0.036824  muestras-procesadas:[40000/50000]\n",
            "Entrenamiento Error: \n",
            "  Avg loss: 0.032663 \n",
            "\n",
            "Valid Error: \n",
            "  Avg loss: 0.032655 \n",
            "\n",
            "Epoch 11\n",
            "-------------------------------\n",
            "batch=0 loss=0.036891  muestras-procesadas:[    0/50000]\n",
            "batch=10 loss=0.035952  muestras-procesadas:[10000/50000]\n",
            "batch=20 loss=0.035549  muestras-procesadas:[20000/50000]\n",
            "batch=30 loss=0.035473  muestras-procesadas:[30000/50000]\n",
            "batch=40 loss=0.036135  muestras-procesadas:[40000/50000]\n",
            "Entrenamiento Error: \n",
            "  Avg loss: 0.031723 \n",
            "\n",
            "Valid Error: \n",
            "  Avg loss: 0.031727 \n",
            "\n",
            "Epoch 12\n",
            "-------------------------------\n",
            "batch=0 loss=0.035238  muestras-procesadas:[    0/50000]\n",
            "batch=10 loss=0.035749  muestras-procesadas:[10000/50000]\n",
            "batch=20 loss=0.034475  muestras-procesadas:[20000/50000]\n",
            "batch=30 loss=0.033984  muestras-procesadas:[30000/50000]\n",
            "batch=40 loss=0.034781  muestras-procesadas:[40000/50000]\n",
            "Entrenamiento Error: \n",
            "  Avg loss: 0.030889 \n",
            "\n",
            "Valid Error: \n",
            "  Avg loss: 0.030903 \n",
            "\n",
            "Epoch 13\n",
            "-------------------------------\n",
            "batch=0 loss=0.034419  muestras-procesadas:[    0/50000]\n",
            "batch=10 loss=0.034433  muestras-procesadas:[10000/50000]\n",
            "batch=20 loss=0.033677  muestras-procesadas:[20000/50000]\n",
            "batch=30 loss=0.034189  muestras-procesadas:[30000/50000]\n",
            "batch=40 loss=0.034465  muestras-procesadas:[40000/50000]\n",
            "Entrenamiento Error: \n",
            "  Avg loss: 0.030140 \n",
            "\n",
            "Valid Error: \n",
            "  Avg loss: 0.030162 \n",
            "\n",
            "Epoch 14\n",
            "-------------------------------\n",
            "batch=0 loss=0.034154  muestras-procesadas:[    0/50000]\n",
            "batch=10 loss=0.033347  muestras-procesadas:[10000/50000]\n",
            "batch=20 loss=0.033069  muestras-procesadas:[20000/50000]\n",
            "batch=30 loss=0.033031  muestras-procesadas:[30000/50000]\n",
            "batch=40 loss=0.033775  muestras-procesadas:[40000/50000]\n",
            "Entrenamiento Error: \n",
            "  Avg loss: 0.029479 \n",
            "\n",
            "Valid Error: \n",
            "  Avg loss: 0.029509 \n",
            "\n",
            "Epoch 15\n",
            "-------------------------------\n",
            "batch=0 loss=0.032355  muestras-procesadas:[    0/50000]\n",
            "batch=10 loss=0.032323  muestras-procesadas:[10000/50000]\n",
            "batch=20 loss=0.032505  muestras-procesadas:[20000/50000]\n",
            "batch=30 loss=0.031762  muestras-procesadas:[30000/50000]\n",
            "batch=40 loss=0.033490  muestras-procesadas:[40000/50000]\n",
            "Entrenamiento Error: \n",
            "  Avg loss: 0.028893 \n",
            "\n",
            "Valid Error: \n",
            "  Avg loss: 0.028929 \n",
            "\n",
            "Epoch 16\n",
            "-------------------------------\n",
            "batch=0 loss=0.032483  muestras-procesadas:[    0/50000]\n",
            "batch=10 loss=0.033066  muestras-procesadas:[10000/50000]\n",
            "batch=20 loss=0.032172  muestras-procesadas:[20000/50000]\n",
            "batch=30 loss=0.032330  muestras-procesadas:[30000/50000]\n",
            "batch=40 loss=0.031544  muestras-procesadas:[40000/50000]\n",
            "Entrenamiento Error: \n",
            "  Avg loss: 0.028363 \n",
            "\n",
            "Valid Error: \n",
            "  Avg loss: 0.028404 \n",
            "\n",
            "Epoch 17\n",
            "-------------------------------\n",
            "batch=0 loss=0.031293  muestras-procesadas:[    0/50000]\n",
            "batch=10 loss=0.031073  muestras-procesadas:[10000/50000]\n",
            "batch=20 loss=0.032141  muestras-procesadas:[20000/50000]\n",
            "batch=30 loss=0.031920  muestras-procesadas:[30000/50000]\n",
            "batch=40 loss=0.031011  muestras-procesadas:[40000/50000]\n",
            "Entrenamiento Error: \n",
            "  Avg loss: 0.027878 \n",
            "\n",
            "Valid Error: \n",
            "  Avg loss: 0.027924 \n",
            "\n",
            "Epoch 18\n",
            "-------------------------------\n",
            "batch=0 loss=0.030293  muestras-procesadas:[    0/50000]\n",
            "batch=10 loss=0.031926  muestras-procesadas:[10000/50000]\n",
            "batch=20 loss=0.030851  muestras-procesadas:[20000/50000]\n",
            "batch=30 loss=0.031546  muestras-procesadas:[30000/50000]\n",
            "batch=40 loss=0.031134  muestras-procesadas:[40000/50000]\n",
            "Entrenamiento Error: \n",
            "  Avg loss: 0.027445 \n",
            "\n",
            "Valid Error: \n",
            "  Avg loss: 0.027495 \n",
            "\n",
            "Epoch 19\n",
            "-------------------------------\n",
            "batch=0 loss=0.031558  muestras-procesadas:[    0/50000]\n",
            "batch=10 loss=0.030735  muestras-procesadas:[10000/50000]\n",
            "batch=20 loss=0.031053  muestras-procesadas:[20000/50000]\n",
            "batch=30 loss=0.030359  muestras-procesadas:[30000/50000]\n",
            "batch=40 loss=0.030100  muestras-procesadas:[40000/50000]\n",
            "Entrenamiento Error: \n",
            "  Avg loss: 0.027046 \n",
            "\n",
            "Valid Error: \n",
            "  Avg loss: 0.027100 \n",
            "\n",
            "Epoch 20\n",
            "-------------------------------\n",
            "batch=0 loss=0.031329  muestras-procesadas:[    0/50000]\n",
            "batch=10 loss=0.030594  muestras-procesadas:[10000/50000]\n",
            "batch=20 loss=0.030443  muestras-procesadas:[20000/50000]\n",
            "batch=30 loss=0.029717  muestras-procesadas:[30000/50000]\n",
            "batch=40 loss=0.029679  muestras-procesadas:[40000/50000]\n",
            "Entrenamiento Error: \n",
            "  Avg loss: 0.026680 \n",
            "\n",
            "Valid Error: \n",
            "  Avg loss: 0.026736 \n",
            "\n",
            "Epoch 21\n",
            "-------------------------------\n",
            "batch=0 loss=0.029764  muestras-procesadas:[    0/50000]\n",
            "batch=10 loss=0.030115  muestras-procesadas:[10000/50000]\n",
            "batch=20 loss=0.030122  muestras-procesadas:[20000/50000]\n",
            "batch=30 loss=0.029808  muestras-procesadas:[30000/50000]\n",
            "batch=40 loss=0.029216  muestras-procesadas:[40000/50000]\n",
            "Entrenamiento Error: \n",
            "  Avg loss: 0.026337 \n",
            "\n",
            "Valid Error: \n",
            "  Avg loss: 0.026396 \n",
            "\n",
            "Epoch 22\n",
            "-------------------------------\n",
            "batch=0 loss=0.028858  muestras-procesadas:[    0/50000]\n",
            "batch=10 loss=0.029325  muestras-procesadas:[10000/50000]\n",
            "batch=20 loss=0.029666  muestras-procesadas:[20000/50000]\n",
            "batch=30 loss=0.029005  muestras-procesadas:[30000/50000]\n",
            "batch=40 loss=0.029477  muestras-procesadas:[40000/50000]\n",
            "Entrenamiento Error: \n",
            "  Avg loss: 0.026019 \n",
            "\n",
            "Valid Error: \n",
            "  Avg loss: 0.026080 \n",
            "\n",
            "Epoch 23\n",
            "-------------------------------\n",
            "batch=0 loss=0.029390  muestras-procesadas:[    0/50000]\n",
            "batch=10 loss=0.029092  muestras-procesadas:[10000/50000]\n",
            "batch=20 loss=0.029178  muestras-procesadas:[20000/50000]\n",
            "batch=30 loss=0.029753  muestras-procesadas:[30000/50000]\n",
            "batch=40 loss=0.028803  muestras-procesadas:[40000/50000]\n",
            "Entrenamiento Error: \n",
            "  Avg loss: 0.025726 \n",
            "\n",
            "Valid Error: \n",
            "  Avg loss: 0.025790 \n",
            "\n",
            "Epoch 24\n",
            "-------------------------------\n",
            "batch=0 loss=0.028887  muestras-procesadas:[    0/50000]\n",
            "batch=10 loss=0.029066  muestras-procesadas:[10000/50000]\n",
            "batch=20 loss=0.029090  muestras-procesadas:[20000/50000]\n",
            "batch=30 loss=0.028430  muestras-procesadas:[30000/50000]\n",
            "batch=40 loss=0.028119  muestras-procesadas:[40000/50000]\n",
            "Entrenamiento Error: \n",
            "  Avg loss: 0.025448 \n",
            "\n",
            "Valid Error: \n",
            "  Avg loss: 0.025513 \n",
            "\n",
            "Epoch 25\n",
            "-------------------------------\n",
            "batch=0 loss=0.028195  muestras-procesadas:[    0/50000]\n",
            "batch=10 loss=0.028010  muestras-procesadas:[10000/50000]\n",
            "batch=20 loss=0.028603  muestras-procesadas:[20000/50000]\n",
            "batch=30 loss=0.029146  muestras-procesadas:[30000/50000]\n",
            "batch=40 loss=0.028976  muestras-procesadas:[40000/50000]\n",
            "Entrenamiento Error: \n",
            "  Avg loss: 0.025181 \n",
            "\n",
            "Valid Error: \n",
            "  Avg loss: 0.025248 \n",
            "\n",
            "Epoch 26\n",
            "-------------------------------\n",
            "batch=0 loss=0.027989  muestras-procesadas:[    0/50000]\n",
            "batch=10 loss=0.028525  muestras-procesadas:[10000/50000]\n",
            "batch=20 loss=0.027308  muestras-procesadas:[20000/50000]\n",
            "batch=30 loss=0.028295  muestras-procesadas:[30000/50000]\n",
            "batch=40 loss=0.028032  muestras-procesadas:[40000/50000]\n",
            "Entrenamiento Error: \n",
            "  Avg loss: 0.024931 \n",
            "\n",
            "Valid Error: \n",
            "  Avg loss: 0.024999 \n",
            "\n",
            "Epoch 27\n",
            "-------------------------------\n",
            "batch=0 loss=0.027870  muestras-procesadas:[    0/50000]\n",
            "batch=10 loss=0.027238  muestras-procesadas:[10000/50000]\n",
            "batch=20 loss=0.027477  muestras-procesadas:[20000/50000]\n",
            "batch=30 loss=0.028150  muestras-procesadas:[30000/50000]\n",
            "batch=40 loss=0.027997  muestras-procesadas:[40000/50000]\n",
            "Entrenamiento Error: \n",
            "  Avg loss: 0.024693 \n",
            "\n",
            "Valid Error: \n",
            "  Avg loss: 0.024762 \n",
            "\n",
            "Epoch 28\n",
            "-------------------------------\n",
            "batch=0 loss=0.028044  muestras-procesadas:[    0/50000]\n",
            "batch=10 loss=0.027505  muestras-procesadas:[10000/50000]\n",
            "batch=20 loss=0.028342  muestras-procesadas:[20000/50000]\n",
            "batch=30 loss=0.027269  muestras-procesadas:[30000/50000]\n",
            "batch=40 loss=0.027650  muestras-procesadas:[40000/50000]\n",
            "Entrenamiento Error: \n",
            "  Avg loss: 0.024468 \n",
            "\n",
            "Valid Error: \n",
            "  Avg loss: 0.024538 \n",
            "\n",
            "Epoch 29\n",
            "-------------------------------\n",
            "batch=0 loss=0.027488  muestras-procesadas:[    0/50000]\n",
            "batch=10 loss=0.027892  muestras-procesadas:[10000/50000]\n",
            "batch=20 loss=0.027367  muestras-procesadas:[20000/50000]\n",
            "batch=30 loss=0.028481  muestras-procesadas:[30000/50000]\n",
            "batch=40 loss=0.027357  muestras-procesadas:[40000/50000]\n",
            "Entrenamiento Error: \n",
            "  Avg loss: 0.024246 \n",
            "\n",
            "Valid Error: \n",
            "  Avg loss: 0.024316 \n",
            "\n",
            "Epoch 30\n",
            "-------------------------------\n",
            "batch=0 loss=0.027640  muestras-procesadas:[    0/50000]\n",
            "batch=10 loss=0.026882  muestras-procesadas:[10000/50000]\n",
            "batch=20 loss=0.027484  muestras-procesadas:[20000/50000]\n",
            "batch=30 loss=0.026561  muestras-procesadas:[30000/50000]\n",
            "batch=40 loss=0.026998  muestras-procesadas:[40000/50000]\n",
            "Entrenamiento Error: \n",
            "  Avg loss: 0.024038 \n",
            "\n",
            "Valid Error: \n",
            "  Avg loss: 0.024109 \n",
            "\n",
            "Done!\n",
            "El modelo tardó 420.31367444992065 segundos en ejecutarse.\n"
          ]
        }
      ],
      "source": [
        "entrenamiento(model_4)"
      ]
    },
    {
      "cell_type": "code",
      "execution_count": null,
      "metadata": {
        "id": "a-dRz8Zd4Rm8",
        "colab": {
          "base_uri": "https://localhost:8080/",
          "height": 449
        },
        "outputId": "77f65867-5fa6-4db8-f799-a368674a23aa"
      },
      "outputs": [
        {
          "output_type": "display_data",
          "data": {
            "text/plain": [
              "<Figure size 640x480 with 1 Axes>"
            ],
            "image/png": "[encoded data removed]"
          },
          "metadata": {}
        }
      ],
      "source": [
        "grafico([model, model_2, model_3, model_4])"
      ]
    },
    {
      "cell_type": "code",
      "execution_count": null,
      "metadata": {
        "id": "jgJdcLzZE7sP",
        "colab": {
          "base_uri": "https://localhost:8080/",
          "height": 385
        },
        "outputId": "8d353e5d-4340-4f8f-c421-d70f2f59b94f"
      },
      "outputs": [
        {
          "output_type": "display_data",
          "data": {
            "text/plain": [
              "<Figure size 400x400 with 6 Axes>"
            ],
            "image/png": "[encoded data removed]"
          },
          "metadata": {}
        }
      ],
      "source": [
        "ejemplos(model_4)"
      ]
    },
    {
      "cell_type": "code",
      "source": [
        "test_loop(testloader,model_4,loss_fn)"
      ],
      "metadata": {
        "id": "WXynkPxMnwOS",
        "colab": {
          "base_uri": "https://localhost:8080/"
        },
        "outputId": "33f3eac4-c8bf-4877-95a3-4bd26c829ca3"
      },
      "execution_count": null,
      "outputs": [
        {
          "output_type": "stream",
          "name": "stdout",
          "text": [
            "Test Error: \n",
            "  Avg loss: 0.024026\n"
          ]
        },
        {
          "output_type": "execute_result",
          "data": {
            "text/plain": [
              "0.024025915749371053"
            ]
          },
          "metadata": {},
          "execution_count": 42
        }
      ]
    }
  ],
  "metadata": {
    "accelerator": "GPU",
    "colab": {
      "provenance": [],
      "gpuType": "T4"
    },
    "kernelspec": {
      "display_name": "Python 3",
      "name": "python3"
    },
    "language_info": {
      "name": "python"
    }
  },
  "nbformat": 4,
  "nbformat_minor": 0
}
